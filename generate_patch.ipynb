{
 "cells": [
  {
   "cell_type": "code",
   "execution_count": 1,
   "metadata": {},
   "outputs": [],
   "source": [
    "%load_ext autoreload\n",
    "%autoreload 2"
   ]
  },
  {
   "cell_type": "code",
   "execution_count": 2,
   "metadata": {},
   "outputs": [],
   "source": [
    "from config import *\n",
    "from data_generator import DataGenerator\n",
    "import numpy as np\n",
    "import time\n",
    "from tqdm import tqdm\n",
    "from glob import glob\n",
    "import random\n",
    "import os"
   ]
  },
  {
   "cell_type": "code",
   "execution_count": 3,
   "metadata": {},
   "outputs": [
    {
     "name": "stdout",
     "output_type": "stream",
     "text": [
      "get meta_dict from cache\n",
      "ct record size (3613, 12)\n"
     ]
    }
   ],
   "source": [
    "generator = DataGenerator(\"lung\")"
   ]
  },
  {
   "cell_type": "code",
   "execution_count": 4,
   "metadata": {},
   "outputs": [
    {
     "name": "stderr",
     "output_type": "stream",
     "text": [
      "100%|██████████| 4800/4800 [23:40<00:00,  2.47it/s] \n",
      "100%|██████████| 320/320 [01:43<00:00,  2.47it/s]\n"
     ]
    }
   ],
   "source": [
    "# train_start = TRAIN_STEPS_PER_EPOCH*6\n",
    "#val_start = TRAIN_STEPS_PER_EPOCH*4\n",
    "train_start=0\n",
    "for i in tqdm(range(TRAIN_STEPS_PER_EPOCH*4)):\n",
    "    new_x,new_y,new_y_class = next(generator.flow_segmentation(mode='train'))\n",
    "    np.save(PREPROCESS_GENERATOR_LUNG_PATH +'/'+str(train_start+i)+'_x_train.npy',new_x)\n",
    "    np.save(PREPROCESS_GENERATOR_LUNG_PATH +'/'+str(train_start+i)+'_y_train.npy',new_y)\n",
    "    np.save(PREPROCESS_GENERATOR_LUNG_PATH +'/'+str(train_start+i)+'_yclass_train.npy',new_y_class)\n",
    "\n",
    "for i in tqdm(range(TRAIN_VALID_STEPS*2)):\n",
    "    new_x, new_y,new_y_class = next(generator.flow_segmentation(mode='val'))\n",
    "    np.save(PREPROCESS_GENERATOR_LUNG_PATH +'/'+str(i)+'_x_val.npy',new_x)\n",
    "    np.save(PREPROCESS_GENERATOR_LUNG_PATH +'/'+str(i)+'_y_val.npy',new_y)\n",
    "    np.save(PREPROCESS_GENERATOR_LUNG_PATH +'/'+str(i)+'_yclass_val.npy',new_y_class)"
   ]
  },
  {
   "cell_type": "code",
   "execution_count": 7,
   "metadata": {},
   "outputs": [
    {
     "name": "stdout",
     "output_type": "stream",
     "text": [
      "get meta_dict from cache\n",
      "ct record size (5341, 12)\n"
     ]
    }
   ],
   "source": [
    "generator = DataGenerator(\"mediastinal\")"
   ]
  },
  {
   "cell_type": "code",
   "execution_count": null,
   "metadata": {
    "scrolled": false
   },
   "outputs": [
    {
     "name": "stderr",
     "output_type": "stream",
     "text": [
      " 35%|███▌      | 1683/4800 [13:30<22:29,  2.31it/s]  "
     ]
    }
   ],
   "source": [
    "for i in tqdm(range(TRAIN_STEPS_PER_EPOCH*4)):\n",
    "    new_x,new_y,new_y_class = next(generator.flow_segmentation(mode='train'))\n",
    "    np.save(PREPROCESS_GENERATOR_MEIASTINAL_PATH +'/'+str(i)+'_x_train.npy',new_x)\n",
    "    np.save(PREPROCESS_GENERATOR_MEIASTINAL_PATH +'/'+str(i)+'_y_train.npy',new_y)\n",
    "    np.save(PREPROCESS_GENERATOR_MEIASTINAL_PATH +'/'+str(i)+'_yclass_train.npy',new_y_class)\n",
    "\n",
    "for i in tqdm(range(TRAIN_VALID_STEPS*2)):\n",
    "    new_x, new_y,new_y_class = next(generator.flow_segmentation(mode='val'))\n",
    "    np.save(PREPROCESS_GENERATOR_MEIASTINAL_PATH +'/'+str(i)+'_x_val.npy',new_x)\n",
    "    np.save(PREPROCESS_GENERATOR_MEIASTINAL_PATH +'/'+str(i)+'_y_val.npy',new_y)\n",
    "    np.save(PREPROCESS_GENERATOR_MEIASTINAL_PATH +'/'+str(i)+'_yclass_val.npy',new_y_class)"
   ]
  },
  {
   "cell_type": "code",
   "execution_count": 9,
   "metadata": {},
   "outputs": [],
   "source": [
    "k = np.load('./temp/generator/lung/'+'188_yclass_train.npy')"
   ]
  },
  {
   "cell_type": "markdown",
   "metadata": {},
   "source": [
    "## Classfication"
   ]
  },
  {
   "cell_type": "code",
   "execution_count": null,
   "metadata": {},
   "outputs": [],
   "source": [
    "generator = DataGenerator(\"lung\")"
   ]
  },
  {
   "cell_type": "code",
   "execution_count": 4,
   "metadata": {},
   "outputs": [
    {
     "name": "stderr",
     "output_type": "stream",
     "text": [
      "100%|██████████| 1200/1200 [05:22<00:00,  3.99it/s]\n",
      "100%|██████████| 320/320 [01:14<00:00,  6.73it/s]\n"
     ]
    }
   ],
   "source": [
    "PREPROCESS_GENERATOR_CLASS_LUNG_PATH = './temp/generator/class/lung'\n",
    "PREPROCESS_GENERATOR_CLASS_MEIASTINAL_PATH = './temp/generator/class/mediastinal'\n",
    "for i in tqdm(range(TRAIN_STEPS_PER_EPOCH*4)):\n",
    "    new_x,new_y = next(generator.flow_classfication(mode='train'))\n",
    "    np.save(PREPROCESS_GENERATOR_CLASS_LUNG_PATH +'/'+str(i)+'_x_train.npy',new_x)\n",
    "    np.save(PREPROCESS_GENERATOR_CLASS_LUNG_PATH +'/'+str(i)+'_y_train.npy',new_y)\n",
    "\n",
    "for i in tqdm(range(TRAIN_VALID_STEPS*2)):\n",
    "    new_x, new_y = next(generator.flow_classfication(mode='val'))\n",
    "    np.save(PREPROCESS_GENERATOR_CLASS_LUNG_PATH +'/'+str(i)+'_x_val.npy',new_x)\n",
    "    np.save(PREPROCESS_GENERATOR_CLASS_LUNG_PATH +'/'+str(i)+'_y_val.npy',new_y)"
   ]
  },
  {
   "cell_type": "code",
   "execution_count": 5,
   "metadata": {},
   "outputs": [
    {
     "name": "stdout",
     "output_type": "stream",
     "text": [
      "get meta_dict from cache\n",
      "ct record size (5341, 12)\n"
     ]
    }
   ],
   "source": [
    "generator = DataGenerator(\"mediastinal\")"
   ]
  },
  {
   "cell_type": "code",
   "execution_count": 6,
   "metadata": {},
   "outputs": [
    {
     "name": "stderr",
     "output_type": "stream",
     "text": [
      "100%|██████████| 4800/4800 [14:19<00:00,  6.24it/s]\n",
      "100%|██████████| 320/320 [00:52<00:00,  7.83it/s]\n"
     ]
    }
   ],
   "source": [
    "PREPROCESS_GENERATOR_CLASS_MEIASTINAL_PATH = './temp/generator/class/mediastinal'\n",
    "for i in tqdm(range(TRAIN_STEPS_PER_EPOCH*4)):\n",
    "    new_x,new_y = next(generator.flow_classfication(mode='train'))\n",
    "    np.save(PREPROCESS_GENERATOR_CLASS_MEIASTINAL_PATH +'/'+str(i)+'_x_train.npy',new_x)\n",
    "    np.save(PREPROCESS_GENERATOR_CLASS_MEIASTINAL_PATH +'/'+str(i)+'_y_train.npy',new_y)\n",
    "\n",
    "for i in tqdm(range(TRAIN_VALID_STEPS*2)):\n",
    "    new_x, new_y = next(generator.flow_classfication(mode='val'))\n",
    "    np.save(PREPROCESS_GENERATOR_CLASS_MEIASTINAL_PATH +'/'+str(i)+'_x_val.npy',new_x)\n",
    "    np.save(PREPROCESS_GENERATOR_CLASS_MEIASTINAL_PATH +'/'+str(i)+'_y_val.npy',new_y)"
   ]
  },
  {
   "cell_type": "code",
   "execution_count": null,
   "metadata": {},
   "outputs": [],
   "source": []
  }
 ],
 "metadata": {
  "kernelspec": {
   "display_name": "Python 3",
   "language": "python",
   "name": "python3"
  },
  "language_info": {
   "codemirror_mode": {
    "name": "ipython",
    "version": 3
   },
   "file_extension": ".py",
   "mimetype": "text/x-python",
   "name": "python",
   "nbconvert_exporter": "python",
   "pygments_lexer": "ipython3",
   "version": "3.6.7"
  }
 },
 "nbformat": 4,
 "nbformat_minor": 2
}
