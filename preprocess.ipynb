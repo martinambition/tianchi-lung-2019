{
 "cells": [
  {
   "cell_type": "code",
   "execution_count": 1,
   "metadata": {},
   "outputs": [],
   "source": [
    "%load_ext autoreload\n",
    "%autoreload 2"
   ]
  },
  {
   "cell_type": "code",
   "execution_count": 1,
   "metadata": {},
   "outputs": [],
   "source": [
    "from preprocess import Preprocess\n",
    "from config import *"
   ]
  },
  {
   "cell_type": "code",
   "execution_count": 2,
   "metadata": {
    "scrolled": false
   },
   "outputs": [
    {
     "name": "stderr",
     "output_type": "stream",
     "text": [
      "\r",
      "  0%|          | 0/222 [00:00<?, ?it/s]"
     ]
    },
    {
     "name": "stdout",
     "output_type": "stream",
     "text": [
      "start preprocess\n",
      "222 total, 0 processed\n",
      "1 process ../dataset/testset2/662265.mhd\n"
     ]
    },
    {
     "name": "stderr",
     "output_type": "stream",
     "text": [
      "\r",
      "  0%|          | 1/222 [00:59<3:39:31, 59.60s/it]"
     ]
    },
    {
     "name": "stdout",
     "output_type": "stream",
     "text": [
      "2 process ../dataset/testset2/652832.mhd\n"
     ]
    },
    {
     "name": "stderr",
     "output_type": "stream",
     "text": [
      "\r",
      "  1%|          | 2/222 [02:00<3:39:30, 59.86s/it]"
     ]
    },
    {
     "name": "stdout",
     "output_type": "stream",
     "text": [
      "3 process ../dataset/testset2/660109.mhd\n"
     ]
    },
    {
     "name": "stderr",
     "output_type": "stream",
     "text": [
      "\r",
      "  1%|▏         | 3/222 [02:45<3:22:38, 55.52s/it]"
     ]
    },
    {
     "name": "stdout",
     "output_type": "stream",
     "text": [
      "4 process ../dataset/testset2/639020.mhd\n"
     ]
    },
    {
     "name": "stderr",
     "output_type": "stream",
     "text": [
      "\r",
      "  2%|▏         | 4/222 [03:13<2:51:46, 47.28s/it]"
     ]
    },
    {
     "name": "stdout",
     "output_type": "stream",
     "text": [
      "5 process ../dataset/testset2/660058.mhd\n"
     ]
    },
    {
     "name": "stderr",
     "output_type": "stream",
     "text": [
      "\r",
      "  2%|▏         | 5/222 [04:05<2:55:45, 48.59s/it]"
     ]
    },
    {
     "name": "stdout",
     "output_type": "stream",
     "text": [
      "6 process ../dataset/testset2/647927.mhd\n"
     ]
    },
    {
     "name": "stderr",
     "output_type": "stream",
     "text": [
      "\r",
      "  3%|▎         | 6/222 [04:52<2:53:53, 48.30s/it]"
     ]
    },
    {
     "name": "stdout",
     "output_type": "stream",
     "text": [
      "7 process ../dataset/testset2/656232.mhd\n"
     ]
    },
    {
     "name": "stderr",
     "output_type": "stream",
     "text": [
      "\r",
      "  3%|▎         | 7/222 [05:20<2:31:16, 42.22s/it]"
     ]
    },
    {
     "name": "stdout",
     "output_type": "stream",
     "text": [
      "8 process ../dataset/testset2/684971.mhd\n"
     ]
    },
    {
     "name": "stderr",
     "output_type": "stream",
     "text": [
      "\r",
      "  4%|▎         | 8/222 [05:58<2:25:21, 40.76s/it]"
     ]
    },
    {
     "name": "stdout",
     "output_type": "stream",
     "text": [
      "9 process ../dataset/testset2/696606.mhd\n"
     ]
    },
    {
     "name": "stderr",
     "output_type": "stream",
     "text": [
      "\r",
      "  4%|▍         | 9/222 [06:38<2:24:32, 40.71s/it]"
     ]
    },
    {
     "name": "stdout",
     "output_type": "stream",
     "text": [
      "10 process ../dataset/testset2/688160.mhd\n"
     ]
    },
    {
     "name": "stderr",
     "output_type": "stream",
     "text": [
      "\r",
      "  5%|▍         | 10/222 [07:11<2:15:37, 38.39s/it]"
     ]
    },
    {
     "name": "stdout",
     "output_type": "stream",
     "text": [
      "11 process ../dataset/testset2/664087.mhd\n"
     ]
    },
    {
     "name": "stderr",
     "output_type": "stream",
     "text": [
      "\r",
      "  5%|▍         | 11/222 [07:55<2:20:47, 40.03s/it]"
     ]
    },
    {
     "name": "stdout",
     "output_type": "stream",
     "text": [
      "12 process ../dataset/testset2/696678.mhd\n"
     ]
    },
    {
     "name": "stderr",
     "output_type": "stream",
     "text": [
      "\r",
      "  5%|▌         | 12/222 [08:39<2:23:45, 41.08s/it]"
     ]
    },
    {
     "name": "stdout",
     "output_type": "stream",
     "text": [
      "13 process ../dataset/testset2/678189.mhd\n"
     ]
    },
    {
     "name": "stderr",
     "output_type": "stream",
     "text": [
      "\r",
      "  6%|▌         | 13/222 [09:27<2:30:46, 43.28s/it]"
     ]
    },
    {
     "name": "stdout",
     "output_type": "stream",
     "text": [
      "14 process ../dataset/testset2/696868.mhd\n"
     ]
    },
    {
     "name": "stderr",
     "output_type": "stream",
     "text": [
      "\r",
      "  6%|▋         | 14/222 [10:18<2:37:56, 45.56s/it]"
     ]
    },
    {
     "name": "stdout",
     "output_type": "stream",
     "text": [
      "15 process ../dataset/testset2/656062.mhd\n"
     ]
    },
    {
     "name": "stderr",
     "output_type": "stream",
     "text": [
      "\r",
      "  7%|▋         | 15/222 [11:19<2:52:46, 50.08s/it]"
     ]
    },
    {
     "name": "stdout",
     "output_type": "stream",
     "text": [
      "16 process ../dataset/testset2/656227.mhd\n"
     ]
    },
    {
     "name": "stderr",
     "output_type": "stream",
     "text": [
      "\r",
      "  7%|▋         | 16/222 [12:02<2:44:55, 48.04s/it]"
     ]
    },
    {
     "name": "stdout",
     "output_type": "stream",
     "text": [
      "17 process ../dataset/testset2/692523.mhd\n"
     ]
    },
    {
     "name": "stderr",
     "output_type": "stream",
     "text": [
      "\r",
      "  8%|▊         | 17/222 [12:42<2:36:32, 45.82s/it]"
     ]
    },
    {
     "name": "stdout",
     "output_type": "stream",
     "text": [
      "18 process ../dataset/testset2/656748.mhd\n"
     ]
    },
    {
     "name": "stderr",
     "output_type": "stream",
     "text": [
      "\r",
      "  8%|▊         | 18/222 [13:29<2:36:08, 45.92s/it]"
     ]
    },
    {
     "name": "stdout",
     "output_type": "stream",
     "text": [
      "19 process ../dataset/testset2/688475.mhd\n"
     ]
    },
    {
     "name": "stderr",
     "output_type": "stream",
     "text": [
      "\r",
      "  9%|▊         | 19/222 [14:10<2:30:42, 44.54s/it]"
     ]
    },
    {
     "name": "stdout",
     "output_type": "stream",
     "text": [
      "20 process ../dataset/testset2/655790.mhd\n"
     ]
    },
    {
     "name": "stderr",
     "output_type": "stream",
     "text": [
      "\r",
      "  9%|▉         | 20/222 [15:09<2:44:54, 48.98s/it]"
     ]
    },
    {
     "name": "stdout",
     "output_type": "stream",
     "text": [
      "21 process ../dataset/testset2/644447.mhd\n"
     ]
    },
    {
     "name": "stderr",
     "output_type": "stream",
     "text": [
      "\r",
      "  9%|▉         | 21/222 [16:02<2:47:53, 50.12s/it]"
     ]
    },
    {
     "name": "stdout",
     "output_type": "stream",
     "text": [
      "22 process ../dataset/testset2/663929.mhd\n"
     ]
    },
    {
     "name": "stderr",
     "output_type": "stream",
     "text": [
      "\r",
      " 10%|▉         | 22/222 [16:43<2:38:21, 47.51s/it]"
     ]
    },
    {
     "name": "stdout",
     "output_type": "stream",
     "text": [
      "23 process ../dataset/testset2/685893.mhd\n"
     ]
    },
    {
     "name": "stderr",
     "output_type": "stream",
     "text": [
      "\r",
      " 10%|█         | 23/222 [17:44<2:50:31, 51.42s/it]"
     ]
    },
    {
     "name": "stdout",
     "output_type": "stream",
     "text": [
      "24 process ../dataset/testset2/656337.mhd\n"
     ]
    },
    {
     "name": "stderr",
     "output_type": "stream",
     "text": [
      "\r",
      " 11%|█         | 24/222 [18:44<2:58:10, 53.99s/it]"
     ]
    },
    {
     "name": "stdout",
     "output_type": "stream",
     "text": [
      "25 process ../dataset/testset2/641333.mhd\n"
     ]
    },
    {
     "name": "stderr",
     "output_type": "stream",
     "text": [
      "\r",
      " 11%|█▏        | 25/222 [19:24<2:43:13, 49.71s/it]"
     ]
    },
    {
     "name": "stdout",
     "output_type": "stream",
     "text": [
      "26 process ../dataset/testset2/341527.mhd\n"
     ]
    },
    {
     "name": "stderr",
     "output_type": "stream",
     "text": [
      "\r",
      " 12%|█▏        | 26/222 [20:19<2:47:22, 51.24s/it]"
     ]
    },
    {
     "name": "stdout",
     "output_type": "stream",
     "text": [
      "27 process ../dataset/testset2/542578.mhd\n"
     ]
    },
    {
     "name": "stderr",
     "output_type": "stream",
     "text": [
      "\r",
      " 12%|█▏        | 27/222 [21:00<2:37:08, 48.35s/it]"
     ]
    },
    {
     "name": "stdout",
     "output_type": "stream",
     "text": [
      "28 process ../dataset/testset2/655466.mhd\n"
     ]
    },
    {
     "name": "stderr",
     "output_type": "stream",
     "text": [
      "\r",
      " 13%|█▎        | 28/222 [21:41<2:28:45, 46.01s/it]"
     ]
    },
    {
     "name": "stdout",
     "output_type": "stream",
     "text": [
      "29 process ../dataset/testset2/322896.mhd\n"
     ]
    },
    {
     "name": "stderr",
     "output_type": "stream",
     "text": [
      "\r",
      " 13%|█▎        | 29/222 [22:26<2:27:44, 45.93s/it]"
     ]
    },
    {
     "name": "stdout",
     "output_type": "stream",
     "text": [
      "30 process ../dataset/testset2/665441.mhd\n"
     ]
    },
    {
     "name": "stderr",
     "output_type": "stream",
     "text": [
      "\r",
      " 14%|█▎        | 30/222 [23:07<2:21:49, 44.32s/it]"
     ]
    },
    {
     "name": "stdout",
     "output_type": "stream",
     "text": [
      "31 process ../dataset/testset2/656101.mhd\n"
     ]
    },
    {
     "name": "stderr",
     "output_type": "stream",
     "text": [
      "\r",
      " 14%|█▍        | 31/222 [23:49<2:19:19, 43.76s/it]"
     ]
    },
    {
     "name": "stdout",
     "output_type": "stream",
     "text": [
      "32 process ../dataset/testset2/643426.mhd\n"
     ]
    },
    {
     "name": "stderr",
     "output_type": "stream",
     "text": [
      "\r",
      " 14%|█▍        | 32/222 [24:28<2:13:35, 42.19s/it]"
     ]
    },
    {
     "name": "stdout",
     "output_type": "stream",
     "text": [
      "33 process ../dataset/testset2/655402.mhd\n"
     ]
    },
    {
     "name": "stderr",
     "output_type": "stream",
     "text": [
      "\r",
      " 15%|█▍        | 33/222 [25:03<2:06:22, 40.12s/it]"
     ]
    },
    {
     "name": "stdout",
     "output_type": "stream",
     "text": [
      "34 process ../dataset/testset2/648216.mhd\n"
     ]
    },
    {
     "name": "stderr",
     "output_type": "stream",
     "text": [
      "\r",
      " 15%|█▌        | 34/222 [25:30<1:52:59, 36.06s/it]"
     ]
    },
    {
     "name": "stdout",
     "output_type": "stream",
     "text": [
      "35 process ../dataset/testset2/631315.mhd\n"
     ]
    },
    {
     "name": "stderr",
     "output_type": "stream",
     "text": [
      "\r",
      " 16%|█▌        | 35/222 [26:29<2:14:05, 43.02s/it]"
     ]
    },
    {
     "name": "stdout",
     "output_type": "stream",
     "text": [
      "36 process ../dataset/testset2/522776.mhd\n"
     ]
    },
    {
     "name": "stderr",
     "output_type": "stream",
     "text": [
      "\r",
      " 16%|█▌        | 36/222 [27:12<2:13:36, 43.10s/it]"
     ]
    },
    {
     "name": "stdout",
     "output_type": "stream",
     "text": [
      "37 process ../dataset/testset2/656577.mhd\n"
     ]
    },
    {
     "name": "stderr",
     "output_type": "stream",
     "text": [
      "\r",
      " 17%|█▋        | 37/222 [28:03<2:19:59, 45.40s/it]"
     ]
    },
    {
     "name": "stdout",
     "output_type": "stream",
     "text": [
      "38 process ../dataset/testset2/631405.mhd\n"
     ]
    },
    {
     "name": "stderr",
     "output_type": "stream",
     "text": [
      "\r",
      " 17%|█▋        | 38/222 [28:43<2:14:21, 43.81s/it]"
     ]
    },
    {
     "name": "stdout",
     "output_type": "stream",
     "text": [
      "39 process ../dataset/testset2/501936.mhd\n"
     ]
    },
    {
     "name": "stderr",
     "output_type": "stream",
     "text": [
      "\r",
      " 18%|█▊        | 39/222 [29:07<1:55:04, 37.73s/it]"
     ]
    },
    {
     "name": "stdout",
     "output_type": "stream",
     "text": [
      "40 process ../dataset/testset2/688193.mhd\n"
     ]
    },
    {
     "name": "stderr",
     "output_type": "stream",
     "text": [
      "\r",
      " 18%|█▊        | 40/222 [29:53<2:02:04, 40.25s/it]"
     ]
    },
    {
     "name": "stdout",
     "output_type": "stream",
     "text": [
      "41 process ../dataset/testset2/639687.mhd\n"
     ]
    },
    {
     "name": "stderr",
     "output_type": "stream",
     "text": [
      "\r",
      " 18%|█▊        | 41/222 [30:27<1:55:57, 38.44s/it]"
     ]
    },
    {
     "name": "stdout",
     "output_type": "stream",
     "text": [
      "42 process ../dataset/testset2/631135.mhd\n"
     ]
    },
    {
     "name": "stderr",
     "output_type": "stream",
     "text": [
      "\r",
      " 19%|█▉        | 42/222 [31:01<1:51:11, 37.06s/it]"
     ]
    },
    {
     "name": "stdout",
     "output_type": "stream",
     "text": [
      "43 process ../dataset/testset2/656481.mhd\n"
     ]
    },
    {
     "name": "stderr",
     "output_type": "stream",
     "text": [
      "\r",
      " 19%|█▉        | 43/222 [31:36<1:49:08, 36.59s/it]"
     ]
    },
    {
     "name": "stdout",
     "output_type": "stream",
     "text": [
      "44 process ../dataset/testset2/641976.mhd\n"
     ]
    },
    {
     "name": "stderr",
     "output_type": "stream",
     "text": [
      "\r",
      " 20%|█▉        | 44/222 [32:18<1:52:59, 38.09s/it]"
     ]
    },
    {
     "name": "stdout",
     "output_type": "stream",
     "text": [
      "45 process ../dataset/testset2/694278.mhd\n"
     ]
    },
    {
     "name": "stderr",
     "output_type": "stream",
     "text": [
      "\r",
      " 20%|██        | 45/222 [32:55<1:51:01, 37.64s/it]"
     ]
    },
    {
     "name": "stdout",
     "output_type": "stream",
     "text": [
      "46 process ../dataset/testset2/688142.mhd\n"
     ]
    },
    {
     "name": "stderr",
     "output_type": "stream",
     "text": [
      "\r",
      " 21%|██        | 46/222 [33:33<1:50:42, 37.74s/it]"
     ]
    },
    {
     "name": "stdout",
     "output_type": "stream",
     "text": [
      "47 process ../dataset/testset2/664531.mhd\n"
     ]
    },
    {
     "name": "stderr",
     "output_type": "stream",
     "text": [
      "\r",
      " 21%|██        | 47/222 [34:13<1:52:26, 38.55s/it]"
     ]
    },
    {
     "name": "stdout",
     "output_type": "stream",
     "text": [
      "48 process ../dataset/testset2/688997.mhd\n"
     ]
    },
    {
     "name": "stderr",
     "output_type": "stream",
     "text": [
      "\r",
      " 22%|██▏       | 48/222 [34:55<1:54:18, 39.42s/it]"
     ]
    },
    {
     "name": "stdout",
     "output_type": "stream",
     "text": [
      "49 process ../dataset/testset2/682302.mhd\n"
     ]
    },
    {
     "name": "stderr",
     "output_type": "stream",
     "text": [
      "\r",
      " 22%|██▏       | 49/222 [35:25<1:45:45, 36.68s/it]"
     ]
    },
    {
     "name": "stdout",
     "output_type": "stream",
     "text": [
      "50 process ../dataset/testset2/694896.mhd\n"
     ]
    },
    {
     "name": "stderr",
     "output_type": "stream",
     "text": [
      "\r",
      " 23%|██▎       | 50/222 [36:12<1:53:48, 39.70s/it]"
     ]
    },
    {
     "name": "stdout",
     "output_type": "stream",
     "text": [
      "51 process ../dataset/testset2/645878.mhd\n"
     ]
    },
    {
     "name": "stderr",
     "output_type": "stream",
     "text": [
      "\r",
      " 23%|██▎       | 51/222 [36:40<1:43:10, 36.20s/it]"
     ]
    },
    {
     "name": "stdout",
     "output_type": "stream",
     "text": [
      "52 process ../dataset/testset2/678534.mhd\n"
     ]
    },
    {
     "name": "stderr",
     "output_type": "stream",
     "text": [
      "\r",
      " 23%|██▎       | 52/222 [37:20<1:46:32, 37.60s/it]"
     ]
    },
    {
     "name": "stdout",
     "output_type": "stream",
     "text": [
      "53 process ../dataset/testset2/372839.mhd\n"
     ]
    },
    {
     "name": "stderr",
     "output_type": "stream",
     "text": [
      "\r",
      " 24%|██▍       | 53/222 [38:16<2:01:21, 43.09s/it]"
     ]
    },
    {
     "name": "stdout",
     "output_type": "stream",
     "text": [
      "54 process ../dataset/testset2/530170.mhd\n"
     ]
    },
    {
     "name": "stderr",
     "output_type": "stream",
     "text": [
      "\r",
      " 24%|██▍       | 54/222 [39:18<2:16:02, 48.58s/it]"
     ]
    },
    {
     "name": "stdout",
     "output_type": "stream",
     "text": [
      "55 process ../dataset/testset2/688441.mhd\n"
     ]
    },
    {
     "name": "stderr",
     "output_type": "stream",
     "text": [
      "\r",
      " 25%|██▍       | 55/222 [39:49<2:00:48, 43.40s/it]"
     ]
    },
    {
     "name": "stdout",
     "output_type": "stream",
     "text": [
      "56 process ../dataset/testset2/637259.mhd\n"
     ]
    },
    {
     "name": "stderr",
     "output_type": "stream",
     "text": [
      "\r",
      " 25%|██▌       | 56/222 [40:33<2:00:21, 43.50s/it]"
     ]
    },
    {
     "name": "stdout",
     "output_type": "stream",
     "text": [
      "57 process ../dataset/testset2/633526.mhd\n"
     ]
    },
    {
     "name": "stderr",
     "output_type": "stream",
     "text": [
      "\r",
      " 26%|██▌       | 57/222 [41:07<1:52:17, 40.84s/it]"
     ]
    },
    {
     "name": "stdout",
     "output_type": "stream",
     "text": [
      "58 process ../dataset/testset2/697032.mhd\n"
     ]
    },
    {
     "name": "stderr",
     "output_type": "stream",
     "text": [
      "\r",
      " 26%|██▌       | 58/222 [41:51<1:54:09, 41.77s/it]"
     ]
    },
    {
     "name": "stdout",
     "output_type": "stream",
     "text": [
      "59 process ../dataset/testset2/656206.mhd\n"
     ]
    },
    {
     "name": "stderr",
     "output_type": "stream",
     "text": [
      "\r",
      " 27%|██▋       | 59/222 [42:27<1:48:23, 39.90s/it]"
     ]
    },
    {
     "name": "stdout",
     "output_type": "stream",
     "text": [
      "60 process ../dataset/testset2/688832.mhd\n"
     ]
    },
    {
     "name": "stderr",
     "output_type": "stream",
     "text": [
      "\r",
      " 27%|██▋       | 60/222 [42:56<1:39:16, 36.77s/it]"
     ]
    },
    {
     "name": "stdout",
     "output_type": "stream",
     "text": [
      "61 process ../dataset/testset2/497877.mhd\n"
     ]
    },
    {
     "name": "stderr",
     "output_type": "stream",
     "text": [
      "\r",
      " 27%|██▋       | 61/222 [43:18<1:26:13, 32.13s/it]"
     ]
    },
    {
     "name": "stdout",
     "output_type": "stream",
     "text": [
      "62 process ../dataset/testset2/696821.mhd\n"
     ]
    },
    {
     "name": "stderr",
     "output_type": "stream",
     "text": [
      "\r",
      " 28%|██▊       | 62/222 [44:04<1:37:12, 36.45s/it]"
     ]
    },
    {
     "name": "stdout",
     "output_type": "stream",
     "text": [
      "63 process ../dataset/testset2/633133.mhd\n"
     ]
    },
    {
     "name": "stderr",
     "output_type": "stream",
     "text": [
      "\r",
      " 28%|██▊       | 63/222 [45:02<1:53:43, 42.91s/it]"
     ]
    },
    {
     "name": "stdout",
     "output_type": "stream",
     "text": [
      "64 process ../dataset/testset2/520093.mhd\n"
     ]
    },
    {
     "name": "stderr",
     "output_type": "stream",
     "text": [
      "\r",
      " 29%|██▉       | 64/222 [45:46<1:53:47, 43.21s/it]"
     ]
    },
    {
     "name": "stdout",
     "output_type": "stream",
     "text": [
      "65 process ../dataset/testset2/680203.mhd\n"
     ]
    },
    {
     "name": "stderr",
     "output_type": "stream",
     "text": [
      "\r",
      " 29%|██▉       | 65/222 [46:27<1:51:00, 42.43s/it]"
     ]
    },
    {
     "name": "stdout",
     "output_type": "stream",
     "text": [
      "66 process ../dataset/testset2/342361.mhd\n"
     ]
    },
    {
     "name": "stderr",
     "output_type": "stream",
     "text": [
      "\r",
      " 30%|██▉       | 66/222 [47:48<2:20:18, 53.96s/it]"
     ]
    },
    {
     "name": "stdout",
     "output_type": "stream",
     "text": [
      "67 process ../dataset/testset2/694617.mhd\n"
     ]
    },
    {
     "name": "stderr",
     "output_type": "stream",
     "text": [
      "\r",
      " 30%|███       | 67/222 [48:35<2:14:31, 52.08s/it]"
     ]
    },
    {
     "name": "stdout",
     "output_type": "stream",
     "text": [
      "68 process ../dataset/testset2/693095.mhd\n"
     ]
    },
    {
     "name": "stderr",
     "output_type": "stream",
     "text": [
      "\r",
      " 31%|███       | 68/222 [49:16<2:04:57, 48.69s/it]"
     ]
    },
    {
     "name": "stdout",
     "output_type": "stream",
     "text": [
      "69 process ../dataset/testset2/680322.mhd\n"
     ]
    },
    {
     "name": "stderr",
     "output_type": "stream",
     "text": [
      "\r",
      " 31%|███       | 69/222 [49:59<1:59:54, 47.02s/it]"
     ]
    },
    {
     "name": "stdout",
     "output_type": "stream",
     "text": [
      "70 process ../dataset/testset2/680383.mhd\n"
     ]
    },
    {
     "name": "stderr",
     "output_type": "stream",
     "text": [
      "\r",
      " 32%|███▏      | 70/222 [50:44<1:57:27, 46.37s/it]"
     ]
    },
    {
     "name": "stdout",
     "output_type": "stream",
     "text": [
      "71 process ../dataset/testset2/498831.mhd\n"
     ]
    },
    {
     "name": "stderr",
     "output_type": "stream",
     "text": [
      "\r",
      " 32%|███▏      | 71/222 [51:34<1:59:06, 47.33s/it]"
     ]
    },
    {
     "name": "stdout",
     "output_type": "stream",
     "text": [
      "72 process ../dataset/testset2/682306.mhd\n"
     ]
    },
    {
     "name": "stderr",
     "output_type": "stream",
     "text": [
      "\r",
      " 32%|███▏      | 72/222 [52:15<1:54:07, 45.65s/it]"
     ]
    },
    {
     "name": "stdout",
     "output_type": "stream",
     "text": [
      "73 process ../dataset/testset2/513916.mhd\n"
     ]
    },
    {
     "name": "stderr",
     "output_type": "stream",
     "text": [
      "\r",
      " 33%|███▎      | 73/222 [52:47<1:42:40, 41.35s/it]"
     ]
    },
    {
     "name": "stdout",
     "output_type": "stream",
     "text": [
      "74 process ../dataset/testset2/662586.mhd\n"
     ]
    },
    {
     "name": "stderr",
     "output_type": "stream",
     "text": [
      "\r",
      " 33%|███▎      | 74/222 [53:24<1:39:16, 40.25s/it]"
     ]
    },
    {
     "name": "stdout",
     "output_type": "stream",
     "text": [
      "75 process ../dataset/testset2/697067.mhd\n"
     ]
    },
    {
     "name": "stderr",
     "output_type": "stream",
     "text": [
      "\r",
      " 34%|███▍      | 75/222 [54:02<1:36:48, 39.51s/it]"
     ]
    },
    {
     "name": "stdout",
     "output_type": "stream",
     "text": [
      "76 process ../dataset/testset2/658163.mhd\n"
     ]
    },
    {
     "name": "stderr",
     "output_type": "stream",
     "text": [
      "\r",
      " 34%|███▍      | 76/222 [54:38<1:33:29, 38.42s/it]"
     ]
    },
    {
     "name": "stdout",
     "output_type": "stream",
     "text": [
      "77 process ../dataset/testset2/656110.mhd\n"
     ]
    },
    {
     "name": "stderr",
     "output_type": "stream",
     "text": [
      "\r",
      " 35%|███▍      | 77/222 [55:43<1:52:06, 46.39s/it]"
     ]
    },
    {
     "name": "stdout",
     "output_type": "stream",
     "text": [
      "78 process ../dataset/testset2/530142.mhd\n"
     ]
    },
    {
     "name": "stderr",
     "output_type": "stream",
     "text": [
      "\r",
      " 35%|███▌      | 78/222 [56:20<1:44:23, 43.49s/it]"
     ]
    },
    {
     "name": "stdout",
     "output_type": "stream",
     "text": [
      "79 process ../dataset/testset2/688239.mhd\n"
     ]
    },
    {
     "name": "stderr",
     "output_type": "stream",
     "text": [
      "\r",
      " 36%|███▌      | 79/222 [57:19<1:55:06, 48.30s/it]"
     ]
    },
    {
     "name": "stdout",
     "output_type": "stream",
     "text": [
      "80 process ../dataset/testset2/656048.mhd\n"
     ]
    },
    {
     "name": "stderr",
     "output_type": "stream",
     "text": [
      "\r",
      " 36%|███▌      | 80/222 [58:00<1:48:50, 45.99s/it]"
     ]
    },
    {
     "name": "stdout",
     "output_type": "stream",
     "text": [
      "81 process ../dataset/testset2/672337.mhd\n"
     ]
    },
    {
     "name": "stderr",
     "output_type": "stream",
     "text": [
      "\r",
      " 36%|███▋      | 81/222 [58:34<1:39:58, 42.55s/it]"
     ]
    },
    {
     "name": "stdout",
     "output_type": "stream",
     "text": [
      "82 process ../dataset/testset2/697155.mhd\n"
     ]
    },
    {
     "name": "stderr",
     "output_type": "stream",
     "text": [
      "\r",
      " 37%|███▋      | 82/222 [59:07<1:32:15, 39.54s/it]"
     ]
    },
    {
     "name": "stdout",
     "output_type": "stream",
     "text": [
      "83 process ../dataset/testset2/522791.mhd\n"
     ]
    },
    {
     "name": "stderr",
     "output_type": "stream",
     "text": [
      "\r",
      " 37%|███▋      | 83/222 [59:48<1:32:31, 39.94s/it]"
     ]
    },
    {
     "name": "stdout",
     "output_type": "stream",
     "text": [
      "84 process ../dataset/testset2/655498.mhd\n"
     ]
    },
    {
     "name": "stderr",
     "output_type": "stream",
     "text": [
      "\r",
      " 38%|███▊      | 84/222 [1:00:17<1:24:38, 36.80s/it]"
     ]
    },
    {
     "name": "stdout",
     "output_type": "stream",
     "text": [
      "85 process ../dataset/testset2/656096.mhd\n"
     ]
    },
    {
     "name": "stderr",
     "output_type": "stream",
     "text": [
      "\r",
      " 38%|███▊      | 85/222 [1:00:52<1:22:54, 36.31s/it]"
     ]
    },
    {
     "name": "stdout",
     "output_type": "stream",
     "text": [
      "86 process ../dataset/testset2/631062.mhd\n"
     ]
    },
    {
     "name": "stderr",
     "output_type": "stream",
     "text": [
      "\r",
      " 39%|███▊      | 86/222 [1:01:33<1:25:16, 37.62s/it]"
     ]
    },
    {
     "name": "stdout",
     "output_type": "stream",
     "text": [
      "87 process ../dataset/testset2/655422.mhd\n"
     ]
    },
    {
     "name": "stderr",
     "output_type": "stream",
     "text": [
      "\r",
      " 39%|███▉      | 87/222 [1:02:10<1:24:24, 37.51s/it]"
     ]
    },
    {
     "name": "stdout",
     "output_type": "stream",
     "text": [
      "88 process ../dataset/testset2/647552.mhd\n"
     ]
    },
    {
     "name": "stderr",
     "output_type": "stream",
     "text": [
      "\r",
      " 40%|███▉      | 88/222 [1:02:46<1:22:23, 36.89s/it]"
     ]
    },
    {
     "name": "stdout",
     "output_type": "stream",
     "text": [
      "89 process ../dataset/testset2/663709.mhd\n"
     ]
    },
    {
     "name": "stderr",
     "output_type": "stream",
     "text": [
      "\r",
      " 40%|████      | 89/222 [1:03:30<1:26:49, 39.17s/it]"
     ]
    },
    {
     "name": "stdout",
     "output_type": "stream",
     "text": [
      "90 process ../dataset/testset2/529737.mhd\n"
     ]
    },
    {
     "name": "stderr",
     "output_type": "stream",
     "text": [
      "\r",
      " 41%|████      | 90/222 [1:04:29<1:39:10, 45.08s/it]"
     ]
    },
    {
     "name": "stdout",
     "output_type": "stream",
     "text": [
      "91 process ../dataset/testset2/655801.mhd\n"
     ]
    },
    {
     "name": "stderr",
     "output_type": "stream",
     "text": [
      "\r",
      " 41%|████      | 91/222 [1:05:07<1:33:45, 42.94s/it]"
     ]
    },
    {
     "name": "stdout",
     "output_type": "stream",
     "text": [
      "92 process ../dataset/testset2/647692.mhd\n"
     ]
    },
    {
     "name": "stderr",
     "output_type": "stream",
     "text": [
      "\r",
      " 41%|████▏     | 92/222 [1:05:40<1:26:13, 39.80s/it]"
     ]
    },
    {
     "name": "stdout",
     "output_type": "stream",
     "text": [
      "93 process ../dataset/testset2/429768.mhd\n"
     ]
    },
    {
     "name": "stderr",
     "output_type": "stream",
     "text": [
      "\r",
      " 42%|████▏     | 93/222 [1:06:20<1:25:45, 39.88s/it]"
     ]
    },
    {
     "name": "stdout",
     "output_type": "stream",
     "text": [
      "94 process ../dataset/testset2/655450.mhd\n"
     ]
    },
    {
     "name": "stderr",
     "output_type": "stream",
     "text": [
      "\r",
      " 42%|████▏     | 94/222 [1:06:51<1:19:31, 37.28s/it]"
     ]
    },
    {
     "name": "stdout",
     "output_type": "stream",
     "text": [
      "95 process ../dataset/testset2/647851.mhd\n"
     ]
    },
    {
     "name": "stderr",
     "output_type": "stream",
     "text": [
      "\r",
      " 43%|████▎     | 95/222 [1:07:34<1:22:44, 39.09s/it]"
     ]
    },
    {
     "name": "stdout",
     "output_type": "stream",
     "text": [
      "96 process ../dataset/testset2/639369.mhd\n"
     ]
    },
    {
     "name": "stderr",
     "output_type": "stream",
     "text": [
      "\r",
      " 43%|████▎     | 96/222 [1:08:23<1:28:16, 42.03s/it]"
     ]
    },
    {
     "name": "stdout",
     "output_type": "stream",
     "text": [
      "97 process ../dataset/testset2/688486.mhd\n"
     ]
    },
    {
     "name": "stderr",
     "output_type": "stream",
     "text": [
      "\r",
      " 44%|████▎     | 97/222 [1:09:08<1:29:14, 42.84s/it]"
     ]
    },
    {
     "name": "stdout",
     "output_type": "stream",
     "text": [
      "98 process ../dataset/testset2/688860.mhd\n"
     ]
    },
    {
     "name": "stderr",
     "output_type": "stream",
     "text": [
      "\r",
      " 44%|████▍     | 98/222 [1:09:52<1:29:19, 43.22s/it]"
     ]
    },
    {
     "name": "stdout",
     "output_type": "stream",
     "text": [
      "99 process ../dataset/testset2/689299.mhd\n"
     ]
    },
    {
     "name": "stderr",
     "output_type": "stream",
     "text": [
      "\r",
      " 45%|████▍     | 99/222 [1:10:47<1:35:49, 46.74s/it]"
     ]
    },
    {
     "name": "stdout",
     "output_type": "stream",
     "text": [
      "100 process ../dataset/testset2/689170.mhd\n"
     ]
    },
    {
     "name": "stderr",
     "output_type": "stream",
     "text": [
      "\r",
      " 45%|████▌     | 100/222 [1:11:13<1:22:46, 40.71s/it]"
     ]
    },
    {
     "name": "stdout",
     "output_type": "stream",
     "text": [
      "101 process ../dataset/testset2/682638.mhd\n"
     ]
    },
    {
     "name": "stderr",
     "output_type": "stream",
     "text": [
      "\r",
      " 45%|████▌     | 101/222 [1:11:48<1:18:30, 38.93s/it]"
     ]
    },
    {
     "name": "stdout",
     "output_type": "stream",
     "text": [
      "102 process ../dataset/testset2/656529.mhd\n"
     ]
    },
    {
     "name": "stderr",
     "output_type": "stream",
     "text": [
      "\r",
      " 46%|████▌     | 102/222 [1:12:25<1:16:35, 38.29s/it]"
     ]
    },
    {
     "name": "stdout",
     "output_type": "stream",
     "text": [
      "103 process ../dataset/testset2/688152.mhd\n"
     ]
    },
    {
     "name": "stderr",
     "output_type": "stream",
     "text": [
      "\r",
      " 46%|████▋     | 103/222 [1:13:04<1:16:28, 38.55s/it]"
     ]
    },
    {
     "name": "stdout",
     "output_type": "stream",
     "text": [
      "104 process ../dataset/testset2/696584.mhd\n"
     ]
    },
    {
     "name": "stderr",
     "output_type": "stream",
     "text": [
      "\r",
      " 47%|████▋     | 104/222 [1:13:49<1:19:22, 40.36s/it]"
     ]
    },
    {
     "name": "stdout",
     "output_type": "stream",
     "text": [
      "105 process ../dataset/testset2/689267.mhd\n"
     ]
    },
    {
     "name": "stderr",
     "output_type": "stream",
     "text": [
      "\r",
      " 47%|████▋     | 105/222 [1:14:21<1:13:49, 37.86s/it]"
     ]
    },
    {
     "name": "stdout",
     "output_type": "stream",
     "text": [
      "106 process ../dataset/testset2/665442.mhd\n"
     ]
    },
    {
     "name": "stderr",
     "output_type": "stream",
     "text": [
      "\r",
      " 48%|████▊     | 106/222 [1:14:55<1:11:07, 36.79s/it]"
     ]
    },
    {
     "name": "stdout",
     "output_type": "stream",
     "text": [
      "107 process ../dataset/testset2/627373.mhd\n"
     ]
    },
    {
     "name": "stderr",
     "output_type": "stream",
     "text": [
      "\r",
      " 48%|████▊     | 107/222 [1:15:41<1:15:57, 39.63s/it]"
     ]
    },
    {
     "name": "stdout",
     "output_type": "stream",
     "text": [
      "108 process ../dataset/testset2/412043.mhd\n"
     ]
    },
    {
     "name": "stderr",
     "output_type": "stream",
     "text": [
      "\r",
      " 49%|████▊     | 108/222 [1:16:15<1:11:56, 37.86s/it]"
     ]
    },
    {
     "name": "stdout",
     "output_type": "stream",
     "text": [
      "109 process ../dataset/testset2/694420.mhd\n"
     ]
    },
    {
     "name": "stderr",
     "output_type": "stream",
     "text": [
      "\r",
      " 49%|████▉     | 109/222 [1:17:04<1:17:16, 41.03s/it]"
     ]
    },
    {
     "name": "stdout",
     "output_type": "stream",
     "text": [
      "110 process ../dataset/testset2/320473.mhd\n"
     ]
    },
    {
     "name": "stderr",
     "output_type": "stream",
     "text": [
      "\r",
      " 50%|████▉     | 110/222 [1:17:36<1:12:05, 38.62s/it]"
     ]
    },
    {
     "name": "stdout",
     "output_type": "stream",
     "text": [
      "111 process ../dataset/testset2/696697.mhd\n"
     ]
    },
    {
     "name": "stderr",
     "output_type": "stream",
     "text": [
      "\r",
      " 50%|█████     | 111/222 [1:18:08<1:07:37, 36.56s/it]"
     ]
    },
    {
     "name": "stdout",
     "output_type": "stream",
     "text": [
      "112 process ../dataset/testset2/675146.mhd\n"
     ]
    },
    {
     "name": "stderr",
     "output_type": "stream",
     "text": [
      "\r",
      " 50%|█████     | 112/222 [1:18:54<1:11:57, 39.25s/it]"
     ]
    },
    {
     "name": "stdout",
     "output_type": "stream",
     "text": [
      "113 process ../dataset/testset2/684803.mhd\n"
     ]
    },
    {
     "name": "stderr",
     "output_type": "stream",
     "text": [
      "\r",
      " 51%|█████     | 113/222 [1:19:32<1:10:34, 38.85s/it]"
     ]
    },
    {
     "name": "stdout",
     "output_type": "stream",
     "text": [
      "114 process ../dataset/testset2/689154.mhd\n"
     ]
    },
    {
     "name": "stderr",
     "output_type": "stream",
     "text": [
      "\r",
      " 51%|█████▏    | 114/222 [1:19:56<1:02:11, 34.55s/it]"
     ]
    },
    {
     "name": "stdout",
     "output_type": "stream",
     "text": [
      "115 process ../dataset/testset2/661614.mhd\n"
     ]
    },
    {
     "name": "stderr",
     "output_type": "stream",
     "text": [
      "\r",
      " 52%|█████▏    | 115/222 [1:20:59<1:16:58, 43.16s/it]"
     ]
    },
    {
     "name": "stdout",
     "output_type": "stream",
     "text": [
      "116 process ../dataset/testset2/702747.mhd\n"
     ]
    },
    {
     "name": "stderr",
     "output_type": "stream",
     "text": [
      "\r",
      " 52%|█████▏    | 116/222 [1:21:43<1:16:29, 43.30s/it]"
     ]
    },
    {
     "name": "stdout",
     "output_type": "stream",
     "text": [
      "117 process ../dataset/testset2/689312.mhd\n"
     ]
    },
    {
     "name": "stderr",
     "output_type": "stream",
     "text": [
      "\r",
      " 53%|█████▎    | 117/222 [1:22:15<1:09:44, 39.85s/it]"
     ]
    },
    {
     "name": "stdout",
     "output_type": "stream",
     "text": [
      "118 process ../dataset/testset2/679971.mhd\n"
     ]
    },
    {
     "name": "stderr",
     "output_type": "stream",
     "text": [
      "\r",
      " 53%|█████▎    | 118/222 [1:22:56<1:09:34, 40.14s/it]"
     ]
    },
    {
     "name": "stdout",
     "output_type": "stream",
     "text": [
      "119 process ../dataset/testset2/514241.mhd\n"
     ]
    },
    {
     "name": "stderr",
     "output_type": "stream",
     "text": [
      "\r",
      " 54%|█████▎    | 119/222 [1:23:38<1:09:55, 40.73s/it]"
     ]
    },
    {
     "name": "stdout",
     "output_type": "stream",
     "text": [
      "120 process ../dataset/testset2/680237.mhd\n"
     ]
    },
    {
     "name": "stderr",
     "output_type": "stream",
     "text": [
      "\r",
      " 54%|█████▍    | 120/222 [1:24:18<1:09:12, 40.71s/it]"
     ]
    },
    {
     "name": "stdout",
     "output_type": "stream",
     "text": [
      "121 process ../dataset/testset2/654261.mhd\n"
     ]
    },
    {
     "name": "stderr",
     "output_type": "stream",
     "text": [
      "\r",
      " 55%|█████▍    | 121/222 [1:24:59<1:08:31, 40.71s/it]"
     ]
    },
    {
     "name": "stdout",
     "output_type": "stream",
     "text": [
      "122 process ../dataset/testset2/633135.mhd\n"
     ]
    },
    {
     "name": "stderr",
     "output_type": "stream",
     "text": [
      "\r",
      " 55%|█████▍    | 122/222 [1:25:33<1:04:20, 38.61s/it]"
     ]
    },
    {
     "name": "stdout",
     "output_type": "stream",
     "text": [
      "123 process ../dataset/testset2/660392.mhd\n"
     ]
    },
    {
     "name": "stderr",
     "output_type": "stream",
     "text": [
      "\r",
      " 55%|█████▌    | 123/222 [1:26:08<1:02:07, 37.65s/it]"
     ]
    },
    {
     "name": "stdout",
     "output_type": "stream",
     "text": [
      "124 process ../dataset/testset2/512119.mhd\n"
     ]
    },
    {
     "name": "stderr",
     "output_type": "stream",
     "text": [
      "\r",
      " 56%|█████▌    | 124/222 [1:26:49<1:03:01, 38.59s/it]"
     ]
    },
    {
     "name": "stdout",
     "output_type": "stream",
     "text": [
      "125 process ../dataset/testset2/679953.mhd\n"
     ]
    },
    {
     "name": "stderr",
     "output_type": "stream",
     "text": [
      "\r",
      " 56%|█████▋    | 125/222 [1:27:36<1:06:36, 41.20s/it]"
     ]
    },
    {
     "name": "stdout",
     "output_type": "stream",
     "text": [
      "126 process ../dataset/testset2/672957.mhd\n"
     ]
    },
    {
     "name": "stderr",
     "output_type": "stream",
     "text": [
      "\r",
      " 57%|█████▋    | 126/222 [1:28:02<58:32, 36.59s/it]  "
     ]
    },
    {
     "name": "stdout",
     "output_type": "stream",
     "text": [
      "127 process ../dataset/testset2/522077.mhd\n"
     ]
    },
    {
     "name": "stderr",
     "output_type": "stream",
     "text": [
      "\r",
      " 57%|█████▋    | 127/222 [1:29:02<1:08:51, 43.49s/it]"
     ]
    },
    {
     "name": "stdout",
     "output_type": "stream",
     "text": [
      "128 process ../dataset/testset2/660214.mhd\n"
     ]
    },
    {
     "name": "stderr",
     "output_type": "stream",
     "text": [
      "\r",
      " 58%|█████▊    | 128/222 [1:29:34<1:02:41, 40.02s/it]"
     ]
    },
    {
     "name": "stdout",
     "output_type": "stream",
     "text": [
      "129 process ../dataset/testset2/672691.mhd\n"
     ]
    },
    {
     "name": "stderr",
     "output_type": "stream",
     "text": [
      "\r",
      " 58%|█████▊    | 129/222 [1:30:08<59:34, 38.44s/it]  "
     ]
    },
    {
     "name": "stdout",
     "output_type": "stream",
     "text": [
      "130 process ../dataset/testset2/673300.mhd\n"
     ]
    },
    {
     "name": "stderr",
     "output_type": "stream",
     "text": [
      "\r",
      " 59%|█████▊    | 130/222 [1:30:43<57:05, 37.23s/it]"
     ]
    },
    {
     "name": "stdout",
     "output_type": "stream",
     "text": [
      "131 process ../dataset/testset2/697373.mhd\n"
     ]
    },
    {
     "name": "stderr",
     "output_type": "stream",
     "text": [
      "\r",
      " 59%|█████▉    | 131/222 [1:31:25<58:53, 38.82s/it]"
     ]
    },
    {
     "name": "stdout",
     "output_type": "stream",
     "text": [
      "132 process ../dataset/testset2/639652.mhd\n"
     ]
    },
    {
     "name": "stderr",
     "output_type": "stream",
     "text": [
      "\r",
      " 59%|█████▉    | 132/222 [1:32:06<59:01, 39.35s/it]"
     ]
    },
    {
     "name": "stdout",
     "output_type": "stream",
     "text": [
      "133 process ../dataset/testset2/639501.mhd\n"
     ]
    },
    {
     "name": "stderr",
     "output_type": "stream",
     "text": [
      "\r",
      " 60%|█████▉    | 133/222 [1:32:47<59:12, 39.91s/it]"
     ]
    },
    {
     "name": "stdout",
     "output_type": "stream",
     "text": [
      "134 process ../dataset/testset2/689249.mhd\n"
     ]
    },
    {
     "name": "stderr",
     "output_type": "stream",
     "text": [
      "\r",
      " 60%|██████    | 134/222 [1:33:28<58:53, 40.15s/it]"
     ]
    },
    {
     "name": "stdout",
     "output_type": "stream",
     "text": [
      "135 process ../dataset/testset2/647292.mhd\n"
     ]
    },
    {
     "name": "stderr",
     "output_type": "stream",
     "text": [
      "\r",
      " 61%|██████    | 135/222 [1:33:53<51:38, 35.62s/it]"
     ]
    },
    {
     "name": "stdout",
     "output_type": "stream",
     "text": [
      "136 process ../dataset/testset2/688775.mhd\n"
     ]
    },
    {
     "name": "stderr",
     "output_type": "stream",
     "text": [
      "\r",
      " 61%|██████▏   | 136/222 [1:34:39<55:33, 38.76s/it]"
     ]
    },
    {
     "name": "stdout",
     "output_type": "stream",
     "text": [
      "137 process ../dataset/testset2/671762.mhd\n"
     ]
    },
    {
     "name": "stderr",
     "output_type": "stream",
     "text": [
      "\r",
      " 62%|██████▏   | 137/222 [1:35:31<1:00:32, 42.74s/it]"
     ]
    },
    {
     "name": "stdout",
     "output_type": "stream",
     "text": [
      "138 process ../dataset/testset2/689465.mhd\n"
     ]
    },
    {
     "name": "stderr",
     "output_type": "stream",
     "text": [
      "\r",
      " 62%|██████▏   | 138/222 [1:36:12<59:10, 42.27s/it]  "
     ]
    },
    {
     "name": "stdout",
     "output_type": "stream",
     "text": [
      "139 process ../dataset/testset2/672098.mhd\n"
     ]
    },
    {
     "name": "stderr",
     "output_type": "stream",
     "text": [
      "\r",
      " 63%|██████▎   | 139/222 [1:37:31<1:13:44, 53.31s/it]"
     ]
    },
    {
     "name": "stdout",
     "output_type": "stream",
     "text": [
      "140 process ../dataset/testset2/633846.mhd\n"
     ]
    },
    {
     "name": "stderr",
     "output_type": "stream",
     "text": [
      "\r",
      " 63%|██████▎   | 140/222 [1:38:26<1:13:29, 53.77s/it]"
     ]
    },
    {
     "name": "stdout",
     "output_type": "stream",
     "text": [
      "141 process ../dataset/testset2/696915.mhd\n"
     ]
    },
    {
     "name": "stderr",
     "output_type": "stream",
     "text": [
      "\r",
      " 64%|██████▎   | 141/222 [1:39:15<1:10:47, 52.43s/it]"
     ]
    },
    {
     "name": "stdout",
     "output_type": "stream",
     "text": [
      "142 process ../dataset/testset2/321241.mhd\n"
     ]
    },
    {
     "name": "stderr",
     "output_type": "stream",
     "text": [
      "\r",
      " 64%|██████▍   | 142/222 [1:39:58<1:06:05, 49.57s/it]"
     ]
    },
    {
     "name": "stdout",
     "output_type": "stream",
     "text": [
      "143 process ../dataset/testset2/640108.mhd\n"
     ]
    },
    {
     "name": "stderr",
     "output_type": "stream",
     "text": [
      "\r",
      " 64%|██████▍   | 143/222 [1:40:44<1:03:40, 48.36s/it]"
     ]
    },
    {
     "name": "stdout",
     "output_type": "stream",
     "text": [
      "144 process ../dataset/testset2/641942.mhd\n"
     ]
    },
    {
     "name": "stderr",
     "output_type": "stream",
     "text": [
      "\r",
      " 65%|██████▍   | 144/222 [1:41:26<1:00:30, 46.54s/it]"
     ]
    },
    {
     "name": "stdout",
     "output_type": "stream",
     "text": [
      "145 process ../dataset/testset2/679461.mhd\n"
     ]
    },
    {
     "name": "stderr",
     "output_type": "stream",
     "text": [
      "\r",
      " 65%|██████▌   | 145/222 [1:42:03<55:53, 43.56s/it]  "
     ]
    },
    {
     "name": "stdout",
     "output_type": "stream",
     "text": [
      "146 process ../dataset/testset2/341658.mhd\n"
     ]
    },
    {
     "name": "stderr",
     "output_type": "stream",
     "text": [
      "\r",
      " 66%|██████▌   | 146/222 [1:42:37<51:39, 40.78s/it]"
     ]
    },
    {
     "name": "stdout",
     "output_type": "stream",
     "text": [
      "147 process ../dataset/testset2/516840.mhd\n"
     ]
    },
    {
     "name": "stderr",
     "output_type": "stream",
     "text": [
      "\r",
      " 66%|██████▌   | 147/222 [1:43:14<49:31, 39.61s/it]"
     ]
    },
    {
     "name": "stdout",
     "output_type": "stream",
     "text": [
      "148 process ../dataset/testset2/696720.mhd\n"
     ]
    },
    {
     "name": "stderr",
     "output_type": "stream",
     "text": [
      "\r",
      " 67%|██████▋   | 148/222 [1:43:53<48:42, 39.50s/it]"
     ]
    },
    {
     "name": "stdout",
     "output_type": "stream",
     "text": [
      "149 process ../dataset/testset2/649254.mhd\n"
     ]
    },
    {
     "name": "stderr",
     "output_type": "stream",
     "text": [
      "\r",
      " 67%|██████▋   | 149/222 [1:44:27<45:54, 37.73s/it]"
     ]
    },
    {
     "name": "stdout",
     "output_type": "stream",
     "text": [
      "150 process ../dataset/testset2/631288.mhd\n"
     ]
    },
    {
     "name": "stderr",
     "output_type": "stream",
     "text": [
      "\r",
      " 68%|██████▊   | 150/222 [1:45:13<48:14, 40.19s/it]"
     ]
    },
    {
     "name": "stdout",
     "output_type": "stream",
     "text": [
      "151 process ../dataset/testset2/647539.mhd\n"
     ]
    },
    {
     "name": "stderr",
     "output_type": "stream",
     "text": [
      "\r",
      " 68%|██████▊   | 151/222 [1:45:59<49:41, 42.00s/it]"
     ]
    },
    {
     "name": "stdout",
     "output_type": "stream",
     "text": [
      "152 process ../dataset/testset2/689297.mhd\n"
     ]
    },
    {
     "name": "stderr",
     "output_type": "stream",
     "text": [
      "\r",
      " 68%|██████▊   | 152/222 [1:46:43<49:38, 42.54s/it]"
     ]
    },
    {
     "name": "stdout",
     "output_type": "stream",
     "text": [
      "153 process ../dataset/testset2/631385.mhd\n"
     ]
    },
    {
     "name": "stderr",
     "output_type": "stream",
     "text": [
      "\r",
      " 69%|██████▉   | 153/222 [1:47:30<50:27, 43.88s/it]"
     ]
    },
    {
     "name": "stdout",
     "output_type": "stream",
     "text": [
      "154 process ../dataset/testset2/696969.mhd\n"
     ]
    },
    {
     "name": "stderr",
     "output_type": "stream",
     "text": [
      "\r",
      " 69%|██████▉   | 154/222 [1:48:10<48:33, 42.84s/it]"
     ]
    },
    {
     "name": "stdout",
     "output_type": "stream",
     "text": [
      "155 process ../dataset/testset2/672396.mhd\n"
     ]
    },
    {
     "name": "stderr",
     "output_type": "stream",
     "text": [
      "\r",
      " 70%|██████▉   | 155/222 [1:48:45<45:01, 40.31s/it]"
     ]
    },
    {
     "name": "stdout",
     "output_type": "stream",
     "text": [
      "156 process ../dataset/testset2/414288.mhd\n"
     ]
    },
    {
     "name": "stderr",
     "output_type": "stream",
     "text": [
      "\r",
      " 70%|███████   | 156/222 [1:49:21<42:57, 39.06s/it]"
     ]
    },
    {
     "name": "stdout",
     "output_type": "stream",
     "text": [
      "157 process ../dataset/testset2/634366.mhd\n"
     ]
    },
    {
     "name": "stderr",
     "output_type": "stream",
     "text": [
      "\r",
      " 71%|███████   | 157/222 [1:50:03<43:23, 40.06s/it]"
     ]
    },
    {
     "name": "stdout",
     "output_type": "stream",
     "text": [
      "158 process ../dataset/testset2/651157.mhd\n"
     ]
    },
    {
     "name": "stderr",
     "output_type": "stream",
     "text": [
      "\r",
      " 71%|███████   | 158/222 [1:50:44<42:51, 40.17s/it]"
     ]
    },
    {
     "name": "stdout",
     "output_type": "stream",
     "text": [
      "159 process ../dataset/testset2/686233.mhd\n"
     ]
    },
    {
     "name": "stderr",
     "output_type": "stream",
     "text": [
      "\r",
      " 72%|███████▏  | 159/222 [1:51:24<42:08, 40.14s/it]"
     ]
    },
    {
     "name": "stdout",
     "output_type": "stream",
     "text": [
      "160 process ../dataset/testset2/660131.mhd\n"
     ]
    },
    {
     "name": "stderr",
     "output_type": "stream",
     "text": [
      "\r",
      " 72%|███████▏  | 160/222 [1:52:05<41:56, 40.59s/it]"
     ]
    },
    {
     "name": "stdout",
     "output_type": "stream",
     "text": [
      "161 process ../dataset/testset2/674493.mhd\n"
     ]
    },
    {
     "name": "stderr",
     "output_type": "stream",
     "text": [
      "\r",
      " 73%|███████▎  | 161/222 [1:52:45<40:50, 40.18s/it]"
     ]
    },
    {
     "name": "stdout",
     "output_type": "stream",
     "text": [
      "162 process ../dataset/testset2/656005.mhd\n"
     ]
    },
    {
     "name": "stderr",
     "output_type": "stream",
     "text": [
      "\r",
      " 73%|███████▎  | 162/222 [1:53:13<36:47, 36.79s/it]"
     ]
    },
    {
     "name": "stdout",
     "output_type": "stream",
     "text": [
      "163 process ../dataset/testset2/368426.mhd\n"
     ]
    },
    {
     "name": "stderr",
     "output_type": "stream",
     "text": [
      "\r",
      " 73%|███████▎  | 163/222 [1:53:43<34:05, 34.66s/it]"
     ]
    },
    {
     "name": "stdout",
     "output_type": "stream",
     "text": [
      "164 process ../dataset/testset2/679968.mhd\n"
     ]
    },
    {
     "name": "stderr",
     "output_type": "stream",
     "text": [
      "\r",
      " 74%|███████▍  | 164/222 [1:54:22<34:49, 36.03s/it]"
     ]
    },
    {
     "name": "stdout",
     "output_type": "stream",
     "text": [
      "165 process ../dataset/testset2/648348.mhd\n"
     ]
    },
    {
     "name": "stderr",
     "output_type": "stream",
     "text": [
      "\r",
      " 74%|███████▍  | 165/222 [1:55:12<38:12, 40.22s/it]"
     ]
    },
    {
     "name": "stdout",
     "output_type": "stream",
     "text": [
      "166 process ../dataset/testset2/672198.mhd\n"
     ]
    },
    {
     "name": "stderr",
     "output_type": "stream",
     "text": [
      "\r",
      " 75%|███████▍  | 166/222 [1:55:51<37:09, 39.81s/it]"
     ]
    },
    {
     "name": "stdout",
     "output_type": "stream",
     "text": [
      "167 process ../dataset/testset2/645141.mhd\n"
     ]
    },
    {
     "name": "stderr",
     "output_type": "stream",
     "text": [
      "\r",
      " 75%|███████▌  | 167/222 [1:56:31<36:21, 39.67s/it]"
     ]
    },
    {
     "name": "stdout",
     "output_type": "stream",
     "text": [
      "168 process ../dataset/testset2/694277.mhd\n"
     ]
    },
    {
     "name": "stderr",
     "output_type": "stream",
     "text": [
      "\r",
      " 76%|███████▌  | 168/222 [1:57:07<34:50, 38.71s/it]"
     ]
    },
    {
     "name": "stdout",
     "output_type": "stream",
     "text": [
      "169 process ../dataset/testset2/674074.mhd\n"
     ]
    },
    {
     "name": "stderr",
     "output_type": "stream",
     "text": [
      "\r",
      " 76%|███████▌  | 169/222 [1:57:36<31:29, 35.66s/it]"
     ]
    },
    {
     "name": "stdout",
     "output_type": "stream",
     "text": [
      "170 process ../dataset/testset2/658169.mhd\n"
     ]
    },
    {
     "name": "stderr",
     "output_type": "stream",
     "text": [
      "\r",
      " 77%|███████▋  | 170/222 [1:58:21<33:27, 38.60s/it]"
     ]
    },
    {
     "name": "stdout",
     "output_type": "stream",
     "text": [
      "171 process ../dataset/testset2/696977.mhd\n"
     ]
    },
    {
     "name": "stderr",
     "output_type": "stream",
     "text": [
      "\r",
      " 77%|███████▋  | 171/222 [1:59:08<34:50, 40.99s/it]"
     ]
    },
    {
     "name": "stdout",
     "output_type": "stream",
     "text": [
      "172 process ../dataset/testset2/689171.mhd\n"
     ]
    },
    {
     "name": "stderr",
     "output_type": "stream",
     "text": [
      "\r",
      " 77%|███████▋  | 172/222 [1:59:27<28:50, 34.60s/it]"
     ]
    },
    {
     "name": "stdout",
     "output_type": "stream",
     "text": [
      "173 process ../dataset/testset2/680488.mhd\n"
     ]
    },
    {
     "name": "stderr",
     "output_type": "stream",
     "text": [
      "\r",
      " 78%|███████▊  | 173/222 [2:00:00<27:44, 33.98s/it]"
     ]
    },
    {
     "name": "stdout",
     "output_type": "stream",
     "text": [
      "174 process ../dataset/testset2/542609.mhd\n"
     ]
    },
    {
     "name": "stderr",
     "output_type": "stream",
     "text": [
      "\r",
      " 78%|███████▊  | 174/222 [2:01:06<35:01, 43.78s/it]"
     ]
    },
    {
     "name": "stdout",
     "output_type": "stream",
     "text": [
      "175 process ../dataset/testset2/692762.mhd\n"
     ]
    },
    {
     "name": "stderr",
     "output_type": "stream",
     "text": [
      "\r",
      " 79%|███████▉  | 175/222 [2:01:44<32:44, 41.79s/it]"
     ]
    },
    {
     "name": "stdout",
     "output_type": "stream",
     "text": [
      "176 process ../dataset/testset2/688542.mhd\n"
     ]
    },
    {
     "name": "stderr",
     "output_type": "stream",
     "text": [
      "\r",
      " 79%|███████▉  | 176/222 [2:02:15<29:40, 38.70s/it]"
     ]
    },
    {
     "name": "stdout",
     "output_type": "stream",
     "text": [
      "177 process ../dataset/testset2/631173.mhd\n"
     ]
    },
    {
     "name": "stderr",
     "output_type": "stream",
     "text": [
      "\r",
      " 80%|███████▉  | 177/222 [2:02:52<28:42, 38.29s/it]"
     ]
    },
    {
     "name": "stdout",
     "output_type": "stream",
     "text": [
      "178 process ../dataset/testset2/689304.mhd\n"
     ]
    },
    {
     "name": "stderr",
     "output_type": "stream",
     "text": [
      "\r",
      " 80%|████████  | 178/222 [2:03:22<26:15, 35.80s/it]"
     ]
    },
    {
     "name": "stdout",
     "output_type": "stream",
     "text": [
      "179 process ../dataset/testset2/649947.mhd\n"
     ]
    },
    {
     "name": "stderr",
     "output_type": "stream",
     "text": [
      "\r",
      " 81%|████████  | 179/222 [2:03:59<25:50, 36.05s/it]"
     ]
    },
    {
     "name": "stdout",
     "output_type": "stream",
     "text": [
      "180 process ../dataset/testset2/526336.mhd\n"
     ]
    },
    {
     "name": "stderr",
     "output_type": "stream",
     "text": [
      "\r",
      " 81%|████████  | 180/222 [2:04:29<24:00, 34.30s/it]"
     ]
    },
    {
     "name": "stdout",
     "output_type": "stream",
     "text": [
      "181 process ../dataset/testset2/672480.mhd\n"
     ]
    },
    {
     "name": "stderr",
     "output_type": "stream",
     "text": [
      "\r",
      " 82%|████████▏ | 181/222 [2:05:09<24:28, 35.82s/it]"
     ]
    },
    {
     "name": "stdout",
     "output_type": "stream",
     "text": [
      "182 process ../dataset/testset2/664193.mhd\n"
     ]
    },
    {
     "name": "stderr",
     "output_type": "stream",
     "text": [
      "\r",
      " 82%|████████▏ | 182/222 [2:05:51<25:06, 37.66s/it]"
     ]
    },
    {
     "name": "stdout",
     "output_type": "stream",
     "text": [
      "183 process ../dataset/testset2/646679.mhd\n"
     ]
    },
    {
     "name": "stderr",
     "output_type": "stream",
     "text": [
      "\r",
      " 82%|████████▏ | 183/222 [2:06:49<28:30, 43.86s/it]"
     ]
    },
    {
     "name": "stdout",
     "output_type": "stream",
     "text": [
      "184 process ../dataset/testset2/655864.mhd\n"
     ]
    },
    {
     "name": "stderr",
     "output_type": "stream",
     "text": [
      "\r",
      " 83%|████████▎ | 184/222 [2:07:31<27:26, 43.33s/it]"
     ]
    },
    {
     "name": "stdout",
     "output_type": "stream",
     "text": [
      "185 process ../dataset/testset2/647177.mhd\n"
     ]
    },
    {
     "name": "stderr",
     "output_type": "stream",
     "text": [
      "\r",
      " 83%|████████▎ | 185/222 [2:07:59<23:53, 38.75s/it]"
     ]
    },
    {
     "name": "stdout",
     "output_type": "stream",
     "text": [
      "186 process ../dataset/testset2/648138.mhd\n"
     ]
    },
    {
     "name": "stderr",
     "output_type": "stream",
     "text": [
      "\r",
      " 84%|████████▍ | 186/222 [2:08:32<22:17, 37.16s/it]"
     ]
    },
    {
     "name": "stdout",
     "output_type": "stream",
     "text": [
      "187 process ../dataset/testset2/664612.mhd\n"
     ]
    },
    {
     "name": "stderr",
     "output_type": "stream",
     "text": [
      "\r",
      " 84%|████████▍ | 187/222 [2:09:09<21:34, 36.99s/it]"
     ]
    },
    {
     "name": "stdout",
     "output_type": "stream",
     "text": [
      "188 process ../dataset/testset2/373375.mhd\n"
     ]
    },
    {
     "name": "stderr",
     "output_type": "stream",
     "text": [
      "\r",
      " 85%|████████▍ | 188/222 [2:09:37<19:29, 34.41s/it]"
     ]
    },
    {
     "name": "stdout",
     "output_type": "stream",
     "text": [
      "189 process ../dataset/testset2/689303.mhd\n"
     ]
    },
    {
     "name": "stderr",
     "output_type": "stream",
     "text": [
      "\r",
      " 85%|████████▌ | 189/222 [2:10:36<22:53, 41.61s/it]"
     ]
    },
    {
     "name": "stdout",
     "output_type": "stream",
     "text": [
      "190 process ../dataset/testset2/689409.mhd\n"
     ]
    },
    {
     "name": "stderr",
     "output_type": "stream",
     "text": [
      "\r",
      " 86%|████████▌ | 190/222 [2:11:06<20:20, 38.13s/it]"
     ]
    },
    {
     "name": "stdout",
     "output_type": "stream",
     "text": [
      "191 process ../dataset/testset2/651598.mhd\n"
     ]
    },
    {
     "name": "stderr",
     "output_type": "stream",
     "text": [
      "\r",
      " 86%|████████▌ | 191/222 [2:11:54<21:12, 41.06s/it]"
     ]
    },
    {
     "name": "stdout",
     "output_type": "stream",
     "text": [
      "192 process ../dataset/testset2/696568.mhd\n"
     ]
    },
    {
     "name": "stderr",
     "output_type": "stream",
     "text": [
      "\r",
      " 86%|████████▋ | 192/222 [2:12:23<18:47, 37.59s/it]"
     ]
    },
    {
     "name": "stdout",
     "output_type": "stream",
     "text": [
      "193 process ../dataset/testset2/630831.mhd\n"
     ]
    },
    {
     "name": "stderr",
     "output_type": "stream",
     "text": [
      "\r",
      " 87%|████████▋ | 193/222 [2:13:12<19:48, 40.97s/it]"
     ]
    },
    {
     "name": "stdout",
     "output_type": "stream",
     "text": [
      "194 process ../dataset/testset2/689056.mhd\n"
     ]
    },
    {
     "name": "stderr",
     "output_type": "stream",
     "text": [
      "\r",
      " 87%|████████▋ | 194/222 [2:14:02<20:22, 43.67s/it]"
     ]
    },
    {
     "name": "stdout",
     "output_type": "stream",
     "text": [
      "195 process ../dataset/testset2/659488.mhd\n"
     ]
    },
    {
     "name": "stderr",
     "output_type": "stream",
     "text": [
      "\r",
      " 88%|████████▊ | 195/222 [2:14:46<19:43, 43.84s/it]"
     ]
    },
    {
     "name": "stdout",
     "output_type": "stream",
     "text": [
      "196 process ../dataset/testset2/627358.mhd\n"
     ]
    },
    {
     "name": "stderr",
     "output_type": "stream",
     "text": [
      "\r",
      " 88%|████████▊ | 196/222 [2:15:21<17:45, 40.96s/it]"
     ]
    },
    {
     "name": "stdout",
     "output_type": "stream",
     "text": [
      "197 process ../dataset/testset2/663946.mhd\n"
     ]
    },
    {
     "name": "stderr",
     "output_type": "stream",
     "text": [
      "\r",
      " 89%|████████▊ | 197/222 [2:16:01<16:59, 40.79s/it]"
     ]
    },
    {
     "name": "stdout",
     "output_type": "stream",
     "text": [
      "198 process ../dataset/testset2/651646.mhd\n"
     ]
    },
    {
     "name": "stderr",
     "output_type": "stream",
     "text": [
      "\r",
      " 89%|████████▉ | 198/222 [2:16:45<16:41, 41.74s/it]"
     ]
    },
    {
     "name": "stdout",
     "output_type": "stream",
     "text": [
      "199 process ../dataset/testset2/342269.mhd\n"
     ]
    },
    {
     "name": "stderr",
     "output_type": "stream",
     "text": [
      "\r",
      " 90%|████████▉ | 199/222 [2:17:11<14:08, 36.90s/it]"
     ]
    },
    {
     "name": "stdout",
     "output_type": "stream",
     "text": [
      "200 process ../dataset/testset2/688920.mhd\n"
     ]
    },
    {
     "name": "stderr",
     "output_type": "stream",
     "text": [
      "\r",
      " 90%|█████████ | 200/222 [2:17:55<14:24, 39.31s/it]"
     ]
    },
    {
     "name": "stdout",
     "output_type": "stream",
     "text": [
      "201 process ../dataset/testset2/678968.mhd\n"
     ]
    },
    {
     "name": "stderr",
     "output_type": "stream",
     "text": [
      "\r",
      " 91%|█████████ | 201/222 [2:18:38<14:08, 40.39s/it]"
     ]
    },
    {
     "name": "stdout",
     "output_type": "stream",
     "text": [
      "202 process ../dataset/testset2/672305.mhd\n"
     ]
    },
    {
     "name": "stderr",
     "output_type": "stream",
     "text": [
      "\r",
      " 91%|█████████ | 202/222 [2:19:18<13:25, 40.25s/it]"
     ]
    },
    {
     "name": "stdout",
     "output_type": "stream",
     "text": [
      "203 process ../dataset/testset2/688684.mhd\n"
     ]
    },
    {
     "name": "stderr",
     "output_type": "stream",
     "text": [
      "\r",
      " 91%|█████████▏| 203/222 [2:19:57<12:34, 39.71s/it]"
     ]
    },
    {
     "name": "stdout",
     "output_type": "stream",
     "text": [
      "204 process ../dataset/testset2/668173.mhd\n"
     ]
    },
    {
     "name": "stderr",
     "output_type": "stream",
     "text": [
      "\r",
      " 92%|█████████▏| 204/222 [2:20:52<13:18, 44.34s/it]"
     ]
    },
    {
     "name": "stdout",
     "output_type": "stream",
     "text": [
      "205 process ../dataset/testset2/627434.mhd\n"
     ]
    },
    {
     "name": "stderr",
     "output_type": "stream",
     "text": [
      "\r",
      " 92%|█████████▏| 205/222 [2:21:25<11:34, 40.85s/it]"
     ]
    },
    {
     "name": "stdout",
     "output_type": "stream",
     "text": [
      "206 process ../dataset/testset2/507932.mhd\n"
     ]
    },
    {
     "name": "stderr",
     "output_type": "stream",
     "text": [
      "\r",
      " 93%|█████████▎| 206/222 [2:21:57<10:11, 38.21s/it]"
     ]
    },
    {
     "name": "stdout",
     "output_type": "stream",
     "text": [
      "207 process ../dataset/testset2/694572.mhd\n"
     ]
    },
    {
     "name": "stderr",
     "output_type": "stream",
     "text": [
      "\r",
      " 93%|█████████▎| 207/222 [2:22:30<09:13, 36.88s/it]"
     ]
    },
    {
     "name": "stdout",
     "output_type": "stream",
     "text": [
      "208 process ../dataset/testset2/688867.mhd\n"
     ]
    },
    {
     "name": "stderr",
     "output_type": "stream",
     "text": [
      "\r",
      " 94%|█████████▎| 208/222 [2:23:42<11:00, 47.18s/it]"
     ]
    },
    {
     "name": "stdout",
     "output_type": "stream",
     "text": [
      "209 process ../dataset/testset2/639485.mhd\n"
     ]
    },
    {
     "name": "stderr",
     "output_type": "stream",
     "text": [
      "\r",
      " 94%|█████████▍| 209/222 [2:24:23<09:49, 45.34s/it]"
     ]
    },
    {
     "name": "stdout",
     "output_type": "stream",
     "text": [
      "210 process ../dataset/testset2/417593.mhd\n"
     ]
    },
    {
     "name": "stderr",
     "output_type": "stream",
     "text": [
      "\r",
      " 95%|█████████▍| 210/222 [2:24:55<08:17, 41.47s/it]"
     ]
    },
    {
     "name": "stdout",
     "output_type": "stream",
     "text": [
      "211 process ../dataset/testset2/688883.mhd\n"
     ]
    },
    {
     "name": "stderr",
     "output_type": "stream",
     "text": [
      "\r",
      " 95%|█████████▌| 211/222 [2:25:42<07:52, 42.94s/it]"
     ]
    },
    {
     "name": "stdout",
     "output_type": "stream",
     "text": [
      "212 process ../dataset/testset2/696732.mhd\n"
     ]
    },
    {
     "name": "stderr",
     "output_type": "stream",
     "text": [
      "\r",
      " 95%|█████████▌| 212/222 [2:26:16<06:44, 40.48s/it]"
     ]
    },
    {
     "name": "stdout",
     "output_type": "stream",
     "text": [
      "213 process ../dataset/testset2/688221.mhd\n"
     ]
    },
    {
     "name": "stderr",
     "output_type": "stream",
     "text": [
      "\r",
      " 96%|█████████▌| 213/222 [2:26:46<05:34, 37.17s/it]"
     ]
    },
    {
     "name": "stdout",
     "output_type": "stream",
     "text": [
      "214 process ../dataset/testset2/631172.mhd\n"
     ]
    },
    {
     "name": "stderr",
     "output_type": "stream",
     "text": [
      "\r",
      " 96%|█████████▋| 214/222 [2:27:09<04:23, 32.90s/it]"
     ]
    },
    {
     "name": "stdout",
     "output_type": "stream",
     "text": [
      "215 process ../dataset/testset2/641094.mhd\n"
     ]
    },
    {
     "name": "stderr",
     "output_type": "stream",
     "text": [
      "\r",
      " 97%|█████████▋| 215/222 [2:27:49<04:05, 35.13s/it]"
     ]
    },
    {
     "name": "stdout",
     "output_type": "stream",
     "text": [
      "216 process ../dataset/testset2/337459.mhd\n"
     ]
    },
    {
     "name": "stderr",
     "output_type": "stream",
     "text": [
      "\r",
      " 97%|█████████▋| 216/222 [2:28:15<03:14, 32.47s/it]"
     ]
    },
    {
     "name": "stdout",
     "output_type": "stream",
     "text": [
      "217 process ../dataset/testset2/656104.mhd\n"
     ]
    },
    {
     "name": "stderr",
     "output_type": "stream",
     "text": [
      "\r",
      " 98%|█████████▊| 217/222 [2:28:45<02:38, 31.65s/it]"
     ]
    },
    {
     "name": "stdout",
     "output_type": "stream",
     "text": [
      "218 process ../dataset/testset2/633139.mhd\n"
     ]
    },
    {
     "name": "stderr",
     "output_type": "stream",
     "text": [
      "\r",
      " 98%|█████████▊| 218/222 [2:29:40<02:35, 38.80s/it]"
     ]
    },
    {
     "name": "stdout",
     "output_type": "stream",
     "text": [
      "219 process ../dataset/testset2/652031.mhd\n"
     ]
    },
    {
     "name": "stderr",
     "output_type": "stream",
     "text": [
      "\r",
      " 99%|█████████▊| 219/222 [2:30:20<01:56, 38.94s/it]"
     ]
    },
    {
     "name": "stdout",
     "output_type": "stream",
     "text": [
      "220 process ../dataset/testset2/684611.mhd\n"
     ]
    },
    {
     "name": "stderr",
     "output_type": "stream",
     "text": [
      "\r",
      " 99%|█████████▉| 220/222 [2:30:54<01:15, 37.62s/it]"
     ]
    },
    {
     "name": "stdout",
     "output_type": "stream",
     "text": [
      "221 process ../dataset/testset2/672182.mhd\n"
     ]
    },
    {
     "name": "stderr",
     "output_type": "stream",
     "text": [
      "\r",
      "100%|█████████▉| 221/222 [2:31:57<00:45, 45.20s/it]"
     ]
    },
    {
     "name": "stdout",
     "output_type": "stream",
     "text": [
      "222 process ../dataset/testset2/418276.mhd\n"
     ]
    },
    {
     "name": "stderr",
     "output_type": "stream",
     "text": [
      "\r",
      "100%|██████████| 222/222 [2:32:35<00:00, 43.05s/it]"
     ]
    },
    {
     "name": "stdout",
     "output_type": "stream",
     "text": [
      "all preprocess done\n"
     ]
    },
    {
     "name": "stderr",
     "output_type": "stream",
     "text": [
      "\n"
     ]
    }
   ],
   "source": [
    "p = Preprocess()\n",
    "p.handle(TEST2_FOLDER,TEST_PROCESS_PATH)"
   ]
  },
  {
   "cell_type": "markdown",
   "metadata": {},
   "source": [
    "## Generate mediastinal with mask"
   ]
  },
  {
   "cell_type": "code",
   "execution_count": 3,
   "metadata": {},
   "outputs": [],
   "source": [
    "from skimage import morphology, measure, segmentation,filters\n",
    "import scipy.ndimage\n",
    "import h5py\n",
    "import numpy as np\n",
    "from glob import glob\n",
    "from tqdm import tqdm\n",
    "import os"
   ]
  },
  {
   "cell_type": "code",
   "execution_count": 5,
   "metadata": {},
   "outputs": [
    {
     "name": "stderr",
     "output_type": "stream",
     "text": [
      "\n",
      "  0%|          | 0/222 [00:00<?, ?it/s]\u001b[A\n",
      "  0%|          | 1/222 [00:10<38:03, 10.33s/it]\u001b[A\n",
      "  1%|          | 2/222 [00:16<33:01,  9.01s/it]\u001b[A\n",
      "  1%|▏         | 3/222 [00:27<34:49,  9.54s/it]\u001b[A\n",
      "  2%|▏         | 4/222 [00:36<34:48,  9.58s/it]\u001b[A\n",
      "  2%|▏         | 5/222 [00:46<35:00,  9.68s/it]\u001b[A\n",
      "  3%|▎         | 6/222 [00:54<32:23,  9.00s/it]\u001b[A\n",
      "  3%|▎         | 7/222 [01:02<31:59,  8.93s/it]\u001b[A\n",
      "  4%|▎         | 8/222 [01:16<37:05, 10.40s/it]\u001b[A\n",
      "  4%|▍         | 9/222 [01:33<44:09, 12.44s/it]\u001b[A\n",
      "  5%|▍         | 10/222 [01:43<41:26, 11.73s/it]\u001b[A\n",
      "  5%|▍         | 11/222 [01:58<44:32, 12.67s/it]\u001b[A\n",
      "  5%|▌         | 12/222 [02:08<40:53, 11.68s/it]\u001b[A\n",
      "  6%|▌         | 13/222 [02:16<37:14, 10.69s/it]\u001b[A\n",
      "  6%|▋         | 14/222 [02:30<40:15, 11.61s/it]\u001b[A\n",
      "  7%|▋         | 15/222 [02:41<40:04, 11.62s/it]\u001b[A\n",
      "  7%|▋         | 16/222 [02:50<36:25, 10.61s/it]\u001b[A\n",
      "  8%|▊         | 17/222 [02:57<33:03,  9.67s/it]\u001b[A\n",
      "  8%|▊         | 18/222 [03:13<39:17, 11.55s/it]\u001b[A\n",
      "  9%|▊         | 19/222 [03:29<43:43, 12.92s/it]\u001b[A\n",
      "  9%|▉         | 20/222 [03:40<41:02, 12.19s/it]\u001b[A\n",
      "  9%|▉         | 21/222 [04:02<51:05, 15.25s/it]\u001b[A\n",
      " 10%|▉         | 22/222 [04:15<48:49, 14.65s/it]\u001b[A\n",
      " 10%|█         | 23/222 [04:31<49:10, 14.82s/it]\u001b[A\n",
      " 11%|█         | 24/222 [04:47<50:43, 15.37s/it]\u001b[A\n",
      " 11%|█▏        | 25/222 [05:09<56:59, 17.36s/it]\u001b[A\n",
      " 12%|█▏        | 26/222 [05:28<58:35, 17.94s/it]\u001b[A\n",
      " 12%|█▏        | 27/222 [05:40<52:10, 16.05s/it]\u001b[A\n",
      " 13%|█▎        | 28/222 [05:50<45:48, 14.17s/it]\u001b[A\n",
      " 13%|█▎        | 29/222 [05:58<40:06, 12.47s/it]\u001b[A\n",
      " 14%|█▎        | 30/222 [06:13<41:42, 13.04s/it]\u001b[A\n",
      " 14%|█▍        | 31/222 [06:33<48:32, 15.25s/it]\u001b[A\n",
      " 14%|█▍        | 32/222 [06:45<44:46, 14.14s/it]\u001b[A\n",
      " 15%|█▍        | 33/222 [06:57<42:30, 13.49s/it]\u001b[A\n",
      " 15%|█▌        | 34/222 [07:04<36:24, 11.62s/it]\u001b[A\n",
      " 16%|█▌        | 35/222 [07:15<35:56, 11.53s/it]\u001b[A\n",
      " 16%|█▌        | 36/222 [07:30<38:14, 12.34s/it]\u001b[A\n",
      " 17%|█▋        | 37/222 [07:45<41:21, 13.41s/it]\u001b[A\n",
      " 17%|█▋        | 38/222 [07:57<39:09, 12.77s/it]\u001b[A\n",
      " 18%|█▊        | 39/222 [08:09<38:46, 12.71s/it]\u001b[A\n",
      " 18%|█▊        | 40/222 [08:22<38:27, 12.68s/it]\u001b[A\n",
      " 18%|█▊        | 41/222 [08:30<33:55, 11.24s/it]\u001b[A\n",
      " 19%|█▉        | 42/222 [08:38<31:24, 10.47s/it]\u001b[A\n",
      " 19%|█▉        | 43/222 [08:53<34:53, 11.70s/it]\u001b[A\n",
      " 20%|█▉        | 44/222 [09:08<37:47, 12.74s/it]\u001b[A\n",
      " 20%|██        | 45/222 [09:21<37:31, 12.72s/it]\u001b[A\n",
      " 21%|██        | 46/222 [09:37<40:24, 13.78s/it]\u001b[A\n",
      " 21%|██        | 47/222 [09:49<38:55, 13.35s/it]\u001b[A\n",
      " 22%|██▏       | 48/222 [10:00<36:23, 12.55s/it]\u001b[A\n",
      " 22%|██▏       | 49/222 [10:18<40:52, 14.18s/it]\u001b[A\n",
      " 23%|██▎       | 50/222 [10:31<39:33, 13.80s/it]\u001b[A\n",
      " 23%|██▎       | 51/222 [10:42<37:10, 13.04s/it]\u001b[A\n",
      " 23%|██▎       | 52/222 [10:53<34:44, 12.26s/it]\u001b[A\n",
      " 24%|██▍       | 53/222 [11:03<32:39, 11.59s/it]\u001b[A\n",
      " 24%|██▍       | 54/222 [11:25<41:29, 14.82s/it]\u001b[A\n",
      " 25%|██▍       | 55/222 [11:34<36:39, 13.17s/it]\u001b[A\n",
      " 25%|██▌       | 56/222 [11:47<35:52, 12.96s/it]\u001b[A\n",
      " 26%|██▌       | 57/222 [12:00<35:23, 12.87s/it]\u001b[A\n",
      " 26%|██▌       | 58/222 [12:16<38:25, 14.06s/it]\u001b[A\n",
      " 27%|██▋       | 59/222 [12:37<43:06, 15.87s/it]\u001b[A\n",
      " 27%|██▋       | 60/222 [12:53<43:02, 15.94s/it]\u001b[A\n",
      " 27%|██▋       | 61/222 [13:12<45:16, 16.87s/it]\u001b[A\n",
      " 28%|██▊       | 62/222 [13:21<38:43, 14.52s/it]\u001b[A\n",
      " 28%|██▊       | 63/222 [13:35<38:39, 14.59s/it]\u001b[A\n",
      " 29%|██▉       | 64/222 [13:52<39:49, 15.12s/it]\u001b[A\n",
      " 29%|██▉       | 65/222 [14:05<38:20, 14.66s/it]\u001b[A\n",
      " 30%|██▉       | 66/222 [14:21<38:39, 14.87s/it]\u001b[A\n",
      " 30%|███       | 67/222 [14:40<41:49, 16.19s/it]\u001b[A\n",
      " 31%|███       | 68/222 [14:56<41:41, 16.24s/it]\u001b[A\n",
      " 31%|███       | 69/222 [15:09<38:47, 15.21s/it]\u001b[A\n",
      " 32%|███▏      | 70/222 [15:20<35:24, 13.98s/it]\u001b[A\n",
      " 32%|███▏      | 71/222 [15:30<31:38, 12.57s/it]\u001b[A\n",
      " 32%|███▏      | 72/222 [15:46<34:19, 13.73s/it]\u001b[A\n",
      " 33%|███▎      | 73/222 [15:57<32:02, 12.90s/it]\u001b[A\n",
      " 33%|███▎      | 74/222 [16:13<34:19, 13.91s/it]\u001b[A\n",
      " 34%|███▍      | 75/222 [16:25<32:12, 13.15s/it]\u001b[A\n",
      " 34%|███▍      | 76/222 [16:41<34:01, 13.99s/it]\u001b[A\n",
      " 35%|███▍      | 77/222 [17:00<37:27, 15.50s/it]\u001b[A\n",
      " 35%|███▌      | 78/222 [17:06<30:37, 12.76s/it]\u001b[A\n",
      " 36%|███▌      | 79/222 [17:13<26:14, 11.01s/it]\u001b[A\n",
      " 36%|███▌      | 80/222 [17:27<28:33, 12.06s/it]\u001b[A\n",
      " 36%|███▋      | 81/222 [17:40<28:37, 12.18s/it]\u001b[A\n",
      " 37%|███▋      | 82/222 [17:55<30:13, 12.95s/it]\u001b[A\n",
      " 37%|███▋      | 83/222 [18:19<38:07, 16.46s/it]\u001b[A\n",
      " 38%|███▊      | 84/222 [18:37<38:57, 16.94s/it]\u001b[A\n",
      " 38%|███▊      | 85/222 [18:52<37:19, 16.35s/it]\u001b[A\n",
      " 39%|███▊      | 86/222 [19:05<34:28, 15.21s/it]\u001b[A\n",
      " 39%|███▉      | 87/222 [19:13<29:30, 13.11s/it]\u001b[A\n",
      " 40%|███▉      | 88/222 [19:24<27:47, 12.44s/it]\u001b[A\n",
      " 40%|████      | 89/222 [19:42<31:28, 14.20s/it]\u001b[A\n",
      " 41%|████      | 90/222 [20:05<37:08, 16.88s/it]\u001b[A\n",
      " 41%|████      | 91/222 [20:18<34:11, 15.66s/it]\u001b[A\n",
      " 41%|████▏     | 92/222 [20:29<30:52, 14.25s/it]\u001b[A\n",
      " 42%|████▏     | 93/222 [20:39<27:37, 12.85s/it]\u001b[A\n",
      " 42%|████▏     | 94/222 [20:52<27:56, 13.10s/it]\u001b[A\n",
      " 43%|████▎     | 95/222 [21:18<35:50, 16.93s/it]\u001b[A\n",
      " 43%|████▎     | 96/222 [21:45<41:33, 19.79s/it]\u001b[A\n",
      " 44%|████▎     | 97/222 [22:02<39:25, 18.92s/it]\u001b[A\n",
      " 44%|████▍     | 98/222 [22:09<32:13, 15.59s/it]\u001b[A\n",
      " 45%|████▍     | 99/222 [22:27<32:52, 16.04s/it]\u001b[A\n",
      " 45%|████▌     | 100/222 [22:55<40:15, 19.80s/it]\u001b[A\n",
      " 45%|████▌     | 101/222 [23:06<34:36, 17.16s/it]\u001b[A\n",
      " 46%|████▌     | 102/222 [23:19<31:37, 15.81s/it]\u001b[A\n",
      " 46%|████▋     | 103/222 [23:26<26:04, 13.14s/it]\u001b[A\n",
      " 47%|████▋     | 104/222 [23:35<23:27, 11.93s/it]\u001b[A\n",
      " 47%|████▋     | 105/222 [23:43<21:17, 10.92s/it]\u001b[A\n",
      " 48%|████▊     | 106/222 [23:57<22:54, 11.85s/it]\u001b[A\n",
      " 48%|████▊     | 107/222 [24:13<24:53, 12.99s/it]\u001b[A\n",
      " 49%|████▊     | 108/222 [24:27<25:15, 13.29s/it]\u001b[A\n",
      " 49%|████▉     | 109/222 [24:43<26:20, 13.99s/it]\u001b[A\n",
      " 50%|████▉     | 110/222 [24:53<23:56, 12.83s/it]\u001b[A\n",
      " 50%|█████     | 111/222 [25:14<28:34, 15.44s/it]\u001b[A\n",
      " 50%|█████     | 112/222 [25:29<27:53, 15.22s/it]\u001b[A\n",
      " 51%|█████     | 113/222 [25:39<24:39, 13.57s/it]\u001b[A\n",
      " 51%|█████▏    | 114/222 [25:52<24:09, 13.42s/it]\u001b[A\n",
      " 52%|█████▏    | 115/222 [26:04<23:31, 13.19s/it]\u001b[A\n",
      " 52%|█████▏    | 116/222 [26:17<23:05, 13.07s/it]\u001b[A\n",
      " 53%|█████▎    | 117/222 [26:35<25:05, 14.33s/it]\u001b[A\n",
      " 53%|█████▎    | 118/222 [26:44<22:29, 12.97s/it]\u001b[A\n",
      " 54%|█████▎    | 119/222 [26:56<21:41, 12.64s/it]\u001b[A\n",
      " 54%|█████▍    | 120/222 [27:13<23:25, 13.78s/it]\u001b[A\n",
      " 55%|█████▍    | 121/222 [27:25<22:25, 13.32s/it]\u001b[A\n",
      " 55%|█████▍    | 122/222 [27:43<24:34, 14.75s/it]\u001b[A\n",
      " 55%|█████▌    | 123/222 [27:53<22:13, 13.47s/it]\u001b[A\n",
      " 56%|█████▌    | 124/222 [28:10<23:35, 14.44s/it]\u001b[A\n",
      " 56%|█████▋    | 125/222 [28:19<20:23, 12.61s/it]\u001b[A\n",
      " 57%|█████▋    | 126/222 [28:29<19:12, 12.01s/it]\u001b[A\n",
      " 57%|█████▋    | 127/222 [28:47<21:43, 13.72s/it]\u001b[A\n",
      " 58%|█████▊    | 128/222 [29:04<22:53, 14.61s/it]\u001b[A\n",
      " 58%|█████▊    | 129/222 [29:16<21:29, 13.87s/it]\u001b[A\n",
      " 59%|█████▊    | 130/222 [29:26<19:50, 12.94s/it]\u001b[A\n",
      " 59%|█████▉    | 131/222 [29:39<19:27, 12.83s/it]\u001b[A\n",
      " 59%|█████▉    | 132/222 [29:50<18:37, 12.42s/it]\u001b[A\n",
      " 60%|█████▉    | 133/222 [30:09<21:09, 14.27s/it]\u001b[A\n",
      " 60%|██████    | 134/222 [30:18<18:47, 12.81s/it]\u001b[A\n",
      " 61%|██████    | 135/222 [30:29<17:40, 12.19s/it]\u001b[A\n",
      " 61%|██████▏   | 136/222 [30:37<15:29, 10.81s/it]\u001b[A\n",
      " 62%|██████▏   | 137/222 [30:45<14:22, 10.15s/it]\u001b[A\n",
      " 62%|██████▏   | 138/222 [31:13<21:27, 15.33s/it]\u001b[A\n",
      " 63%|██████▎   | 139/222 [31:28<21:04, 15.23s/it]\u001b[A\n",
      " 63%|██████▎   | 140/222 [31:39<19:19, 14.15s/it]\u001b[A\n",
      " 64%|██████▎   | 141/222 [31:55<19:45, 14.64s/it]\u001b[A\n",
      " 64%|██████▍   | 142/222 [32:05<17:27, 13.09s/it]\u001b[A\n",
      " 64%|██████▍   | 143/222 [32:18<17:07, 13.01s/it]\u001b[A\n",
      " 65%|██████▍   | 144/222 [32:32<17:22, 13.36s/it]\u001b[A\n",
      " 65%|██████▌   | 145/222 [32:39<14:51, 11.58s/it]\u001b[A\n",
      " 66%|██████▌   | 146/222 [32:53<15:24, 12.17s/it]\u001b[A\n",
      " 66%|██████▌   | 147/222 [33:08<16:18, 13.05s/it]\u001b[A\n",
      " 67%|██████▋   | 148/222 [33:22<16:41, 13.53s/it]\u001b[A\n",
      " 67%|██████▋   | 149/222 [33:45<19:35, 16.10s/it]\u001b[A\n",
      " 68%|██████▊   | 150/222 [33:59<18:35, 15.50s/it]\u001b[A\n",
      " 68%|██████▊   | 151/222 [34:12<17:40, 14.93s/it]\u001b[A\n",
      " 68%|██████▊   | 152/222 [34:21<15:16, 13.09s/it]\u001b[A\n",
      " 69%|██████▉   | 153/222 [34:33<14:44, 12.82s/it]\u001b[A\n",
      " 69%|██████▉   | 154/222 [34:44<13:47, 12.18s/it]\u001b[A\n",
      " 70%|██████▉   | 155/222 [34:56<13:41, 12.27s/it]\u001b[A\n",
      " 70%|███████   | 156/222 [35:09<13:27, 12.24s/it]\u001b[A\n",
      " 71%|███████   | 157/222 [35:43<20:30, 18.93s/it]\u001b[A\n",
      " 71%|███████   | 158/222 [35:55<17:48, 16.69s/it]\u001b[A\n",
      " 72%|███████▏  | 159/222 [36:11<17:25, 16.60s/it]\u001b[A\n",
      " 72%|███████▏  | 160/222 [36:22<15:28, 14.98s/it]\u001b[A\n",
      " 73%|███████▎  | 161/222 [36:32<13:47, 13.56s/it]\u001b[A\n",
      " 73%|███████▎  | 162/222 [36:44<12:52, 12.88s/it]\u001b[A\n",
      " 73%|███████▎  | 163/222 [37:02<14:13, 14.47s/it]\u001b[A\n",
      " 74%|███████▍  | 164/222 [37:15<13:42, 14.17s/it]\u001b[A\n",
      " 74%|███████▍  | 165/222 [37:29<13:15, 13.95s/it]\u001b[A\n",
      " 75%|███████▍  | 166/222 [37:37<11:30, 12.33s/it]\u001b[A\n",
      " 75%|███████▌  | 167/222 [37:54<12:26, 13.57s/it]\u001b[A\n",
      " 76%|███████▌  | 168/222 [38:05<11:33, 12.83s/it]\u001b[A\n",
      " 76%|███████▌  | 169/222 [38:17<11:03, 12.51s/it]\u001b[A\n",
      " 77%|███████▋  | 170/222 [38:39<13:17, 15.33s/it]\u001b[A\n",
      " 77%|███████▋  | 171/222 [38:47<11:09, 13.13s/it]\u001b[A\n",
      " 77%|███████▋  | 172/222 [38:59<10:47, 12.95s/it]\u001b[A\n",
      " 78%|███████▊  | 173/222 [39:05<08:49, 10.81s/it]\u001b[A\n",
      " 78%|███████▊  | 174/222 [39:13<07:58,  9.97s/it]\u001b[A\n",
      " 79%|███████▉  | 175/222 [39:30<09:29, 12.12s/it]\u001b[A\n",
      " 79%|███████▉  | 176/222 [39:47<10:28, 13.67s/it]\u001b[A\n",
      " 80%|███████▉  | 177/222 [39:59<09:52, 13.17s/it]\u001b[A\n",
      " 80%|████████  | 178/222 [40:20<11:19, 15.44s/it]\u001b[A\n",
      " 81%|████████  | 179/222 [40:32<10:17, 14.36s/it]\u001b[A\n",
      " 81%|████████  | 180/222 [40:41<08:56, 12.78s/it]\u001b[A\n",
      " 82%|████████▏ | 181/222 [40:51<08:07, 11.89s/it]\u001b[A\n",
      " 82%|████████▏ | 182/222 [41:10<09:22, 14.05s/it]\u001b[A\n",
      " 82%|████████▏ | 183/222 [41:22<08:45, 13.47s/it]\u001b[A\n",
      " 83%|████████▎ | 184/222 [41:32<07:56, 12.54s/it]\u001b[A\n",
      " 83%|████████▎ | 185/222 [41:46<08:00, 12.99s/it]\u001b[A\n",
      " 84%|████████▍ | 186/222 [41:59<07:48, 13.01s/it]\u001b[A\n",
      " 84%|████████▍ | 187/222 [42:11<07:17, 12.51s/it]\u001b[A\n",
      " 85%|████████▍ | 188/222 [42:22<06:52, 12.13s/it]\u001b[A\n",
      " 85%|████████▌ | 189/222 [42:40<07:39, 13.93s/it]\u001b[A\n",
      " 86%|████████▌ | 190/222 [42:49<06:39, 12.48s/it]\u001b[A\n",
      " 86%|████████▌ | 191/222 [43:09<07:29, 14.51s/it]\u001b[A\n",
      " 86%|████████▋ | 192/222 [43:20<06:43, 13.45s/it]\u001b[A\n",
      " 87%|████████▋ | 193/222 [43:36<06:55, 14.31s/it]\u001b[A\n",
      " 87%|████████▋ | 194/222 [43:41<05:20, 11.45s/it]\u001b[A\n",
      " 88%|████████▊ | 195/222 [44:09<07:23, 16.42s/it]\u001b[A\n",
      " 88%|████████▊ | 196/222 [44:18<06:12, 14.31s/it]\u001b[A\n",
      " 89%|████████▊ | 197/222 [44:30<05:39, 13.59s/it]\u001b[A\n",
      " 89%|████████▉ | 198/222 [44:42<05:12, 13.01s/it]\u001b[A\n",
      " 90%|████████▉ | 199/222 [44:55<05:01, 13.12s/it]\u001b[A\n",
      " 90%|█████████ | 200/222 [45:08<04:45, 12.99s/it]\u001b[A\n",
      " 91%|█████████ | 201/222 [45:22<04:39, 13.33s/it]\u001b[A\n",
      " 91%|█████████ | 202/222 [45:40<04:57, 14.87s/it]\u001b[A\n",
      " 91%|█████████▏| 203/222 [45:50<04:14, 13.41s/it]\u001b[A\n",
      " 92%|█████████▏| 204/222 [46:04<04:05, 13.66s/it]\u001b[A\n",
      " 92%|█████████▏| 205/222 [46:17<03:46, 13.34s/it]\u001b[A\n",
      " 93%|█████████▎| 206/222 [46:25<03:07, 11.71s/it]\u001b[A\n",
      " 93%|█████████▎| 207/222 [46:31<02:29,  9.97s/it]\u001b[A\n",
      " 94%|█████████▎| 208/222 [46:42<02:23, 10.26s/it]\u001b[A\n",
      " 94%|█████████▍| 209/222 [46:56<02:28, 11.42s/it]\u001b[A\n",
      " 95%|█████████▍| 210/222 [47:32<03:43, 18.66s/it]\u001b[A\n",
      " 95%|█████████▌| 211/222 [47:52<03:29, 19.08s/it]\u001b[A\n",
      " 95%|█████████▌| 212/222 [48:05<02:54, 17.42s/it]\u001b[A\n",
      " 96%|█████████▌| 213/222 [48:20<02:31, 16.80s/it]\u001b[A\n",
      " 96%|█████████▋| 214/222 [48:37<02:13, 16.63s/it]\u001b[A\n",
      " 97%|█████████▋| 215/222 [48:50<01:49, 15.62s/it]\u001b[A\n",
      " 97%|█████████▋| 216/222 [48:58<01:19, 13.25s/it]\u001b[A\n",
      " 98%|█████████▊| 217/222 [49:21<01:21, 16.21s/it]\u001b[A\n",
      " 98%|█████████▊| 218/222 [49:33<01:00, 15.13s/it]\u001b[A\n",
      " 99%|█████████▊| 219/222 [49:54<00:50, 16.81s/it]\u001b[A\n",
      " 99%|█████████▉| 220/222 [50:06<00:30, 15.29s/it]\u001b[A\n",
      "100%|█████████▉| 221/222 [50:24<00:16, 16.24s/it]\u001b[A\n",
      "100%|██████████| 222/222 [50:35<00:00, 14.63s/it]\u001b[A"
     ]
    }
   ],
   "source": [
    "area_threshold = 500000\n",
    "threshold = 0.74\n",
    "files  = glob('./temp/test/mediastinal_without_mask/*.h5')\n",
    "for file in tqdm(files):\n",
    "    with h5py.File(file, 'r') as hf:\n",
    "        seriesuid = os.path.splitext(os.path.basename(file))[0]\n",
    "        ret_img = hf['img'].value\n",
    "        temp_img = ret_img.copy()\n",
    "        mask = temp_img>threshold\n",
    "        mask = morphology.binary_closing(mask, selem=np.ones((3, 3, 3)))#binary_opening  dilation\n",
    "        mask = morphology.binary_dilation(mask, selem=np.ones((3, 3, 3)))#binary_opening  dilation\n",
    "        mask = scipy.ndimage.binary_fill_holes(mask)\n",
    "        labels = measure.label(mask)\n",
    "        regions = measure.regionprops(labels)\n",
    "        for r in regions:\n",
    "            if r.area>area_threshold:\n",
    "                for c in r.coords:\n",
    "                    temp_img[c[0], c[1], c[2]] = 0\n",
    "        with h5py.File(os.path.join('./temp/test/mediastinal/',seriesuid+'.h5'), 'w') as nhf:\n",
    "            nhf.create_dataset('img', data=temp_img)"
   ]
  },
  {
   "cell_type": "code",
   "execution_count": null,
   "metadata": {},
   "outputs": [],
   "source": []
  }
 ],
 "metadata": {
  "kernelspec": {
   "display_name": "Python 3",
   "language": "python",
   "name": "python3"
  },
  "language_info": {
   "codemirror_mode": {
    "name": "ipython",
    "version": 3
   },
   "file_extension": ".py",
   "mimetype": "text/x-python",
   "name": "python",
   "nbconvert_exporter": "python",
   "pygments_lexer": "ipython3",
   "version": "3.6.7"
  }
 },
 "nbformat": 4,
 "nbformat_minor": 2
}
